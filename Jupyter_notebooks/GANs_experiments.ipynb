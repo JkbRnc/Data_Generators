{
  "cells": [
    {
      "cell_type": "code",
      "execution_count": 1,
      "metadata": {
        "id": "kPQrpbgY2pas"
      },
      "outputs": [],
      "source": [
        "import pandas as pd\n",
        "import seaborn as sn\n",
        "\n",
        "import numpy as np"
      ]
    },
    {
      "cell_type": "code",
      "execution_count": 2,
      "metadata": {
        "id": "yO-uP8R0dKbE"
      },
      "outputs": [],
      "source": [
        "import matplotlib.pyplot as plt"
      ]
    },
    {
      "cell_type": "code",
      "source": [
        "!git clone https://github.com/JkbRnc/Data_Generators.git"
      ],
      "metadata": {
        "colab": {
          "base_uri": "https://localhost:8080/"
        },
        "id": "NITxnkCa5j1v",
        "outputId": "bef87f74-41e7-43fe-ce63-18adc497b2df"
      },
      "execution_count": 3,
      "outputs": [
        {
          "output_type": "stream",
          "name": "stdout",
          "text": [
            "Cloning into 'Data_Generators'...\n",
            "remote: Enumerating objects: 126, done.\u001b[K\n",
            "remote: Counting objects: 100% (126/126), done.\u001b[K\n",
            "remote: Compressing objects: 100% (97/97), done.\u001b[K\n",
            "remote: Total 126 (delta 42), reused 93 (delta 25), pack-reused 0\u001b[K\n",
            "Receiving objects: 100% (126/126), 1.09 MiB | 14.75 MiB/s, done.\n",
            "Resolving deltas: 100% (42/42), done.\n"
          ]
        }
      ]
    },
    {
      "cell_type": "code",
      "source": [
        "from Data_Generators.evaluate.eval import evaluate_randomforest, distance, create_statistics"
      ],
      "metadata": {
        "id": "jrmKZeqV5mqX"
      },
      "execution_count": 4,
      "outputs": []
    },
    {
      "cell_type": "code",
      "source": [
        "from Data_Generators.generators.gans import GAN"
      ],
      "metadata": {
        "id": "IzA3JuHaLlSj"
      },
      "execution_count": 5,
      "outputs": []
    },
    {
      "cell_type": "markdown",
      "metadata": {
        "id": "fsJuT3_LAIPc"
      },
      "source": [
        "# Beans dataset"
      ]
    },
    {
      "cell_type": "code",
      "execution_count": 6,
      "metadata": {
        "id": "yf8-W-Z2meXa"
      },
      "outputs": [],
      "source": [
        "beans = pd.read_csv('drive/MyDrive/Datasets/Dry_Bean_Dataset.csv', sep=';')"
      ]
    },
    {
      "cell_type": "code",
      "execution_count": null,
      "metadata": {
        "colab": {
          "base_uri": "https://localhost:8080/",
          "height": 270
        },
        "id": "TFtWSsAwmhh6",
        "outputId": "031a9f14-44d2-4007-875a-f93938eb97cf"
      },
      "outputs": [
        {
          "output_type": "execute_result",
          "data": {
            "text/plain": [
              "    Area  Perimeter  MajorAxisLength  MinorAxisLength  AspectRation  \\\n",
              "0  28395    610.291       208.178117       173.888747      1.197191   \n",
              "1  28734    638.018       200.524796       182.734419      1.097356   \n",
              "2  29380    624.110       212.826130       175.931143      1.209713   \n",
              "3  30008    645.884       210.557999       182.516516      1.153638   \n",
              "4  30140    620.134       201.847882       190.279279      1.060798   \n",
              "\n",
              "   Eccentricity  ConvexArea  EquivDiameter    Extent  Solidity  roundness  \\\n",
              "0      0.549812       28715     190.141097  0.763923  0.988856   0.958027   \n",
              "1      0.411785       29172     191.272751  0.783968  0.984986   0.887034   \n",
              "2      0.562727       29690     193.410904  0.778113  0.989559   0.947849   \n",
              "3      0.498616       30724     195.467062  0.782681  0.976696   0.903936   \n",
              "4      0.333680       30417     195.896503  0.773098  0.990893   0.984877   \n",
              "\n",
              "   Compactness  ShapeFactor1  ShapeFactor2  ShapeFactor3  ShapeFactor4  Class  \n",
              "0     0.913358      0.007332      0.003147      0.834222      0.998724  SEKER  \n",
              "1     0.953861      0.006979      0.003564      0.909851      0.998430  SEKER  \n",
              "2     0.908774      0.007244      0.003048      0.825871      0.999066  SEKER  \n",
              "3     0.928329      0.007017      0.003215      0.861794      0.994199  SEKER  \n",
              "4     0.970516      0.006697      0.003665      0.941900      0.999166  SEKER  "
            ],
            "text/html": [
              "\n",
              "  <div id=\"df-297f89c9-b0e8-4e3b-9e19-af28a95511d5\">\n",
              "    <div class=\"colab-df-container\">\n",
              "      <div>\n",
              "<style scoped>\n",
              "    .dataframe tbody tr th:only-of-type {\n",
              "        vertical-align: middle;\n",
              "    }\n",
              "\n",
              "    .dataframe tbody tr th {\n",
              "        vertical-align: top;\n",
              "    }\n",
              "\n",
              "    .dataframe thead th {\n",
              "        text-align: right;\n",
              "    }\n",
              "</style>\n",
              "<table border=\"1\" class=\"dataframe\">\n",
              "  <thead>\n",
              "    <tr style=\"text-align: right;\">\n",
              "      <th></th>\n",
              "      <th>Area</th>\n",
              "      <th>Perimeter</th>\n",
              "      <th>MajorAxisLength</th>\n",
              "      <th>MinorAxisLength</th>\n",
              "      <th>AspectRation</th>\n",
              "      <th>Eccentricity</th>\n",
              "      <th>ConvexArea</th>\n",
              "      <th>EquivDiameter</th>\n",
              "      <th>Extent</th>\n",
              "      <th>Solidity</th>\n",
              "      <th>roundness</th>\n",
              "      <th>Compactness</th>\n",
              "      <th>ShapeFactor1</th>\n",
              "      <th>ShapeFactor2</th>\n",
              "      <th>ShapeFactor3</th>\n",
              "      <th>ShapeFactor4</th>\n",
              "      <th>Class</th>\n",
              "    </tr>\n",
              "  </thead>\n",
              "  <tbody>\n",
              "    <tr>\n",
              "      <th>0</th>\n",
              "      <td>28395</td>\n",
              "      <td>610.291</td>\n",
              "      <td>208.178117</td>\n",
              "      <td>173.888747</td>\n",
              "      <td>1.197191</td>\n",
              "      <td>0.549812</td>\n",
              "      <td>28715</td>\n",
              "      <td>190.141097</td>\n",
              "      <td>0.763923</td>\n",
              "      <td>0.988856</td>\n",
              "      <td>0.958027</td>\n",
              "      <td>0.913358</td>\n",
              "      <td>0.007332</td>\n",
              "      <td>0.003147</td>\n",
              "      <td>0.834222</td>\n",
              "      <td>0.998724</td>\n",
              "      <td>SEKER</td>\n",
              "    </tr>\n",
              "    <tr>\n",
              "      <th>1</th>\n",
              "      <td>28734</td>\n",
              "      <td>638.018</td>\n",
              "      <td>200.524796</td>\n",
              "      <td>182.734419</td>\n",
              "      <td>1.097356</td>\n",
              "      <td>0.411785</td>\n",
              "      <td>29172</td>\n",
              "      <td>191.272751</td>\n",
              "      <td>0.783968</td>\n",
              "      <td>0.984986</td>\n",
              "      <td>0.887034</td>\n",
              "      <td>0.953861</td>\n",
              "      <td>0.006979</td>\n",
              "      <td>0.003564</td>\n",
              "      <td>0.909851</td>\n",
              "      <td>0.998430</td>\n",
              "      <td>SEKER</td>\n",
              "    </tr>\n",
              "    <tr>\n",
              "      <th>2</th>\n",
              "      <td>29380</td>\n",
              "      <td>624.110</td>\n",
              "      <td>212.826130</td>\n",
              "      <td>175.931143</td>\n",
              "      <td>1.209713</td>\n",
              "      <td>0.562727</td>\n",
              "      <td>29690</td>\n",
              "      <td>193.410904</td>\n",
              "      <td>0.778113</td>\n",
              "      <td>0.989559</td>\n",
              "      <td>0.947849</td>\n",
              "      <td>0.908774</td>\n",
              "      <td>0.007244</td>\n",
              "      <td>0.003048</td>\n",
              "      <td>0.825871</td>\n",
              "      <td>0.999066</td>\n",
              "      <td>SEKER</td>\n",
              "    </tr>\n",
              "    <tr>\n",
              "      <th>3</th>\n",
              "      <td>30008</td>\n",
              "      <td>645.884</td>\n",
              "      <td>210.557999</td>\n",
              "      <td>182.516516</td>\n",
              "      <td>1.153638</td>\n",
              "      <td>0.498616</td>\n",
              "      <td>30724</td>\n",
              "      <td>195.467062</td>\n",
              "      <td>0.782681</td>\n",
              "      <td>0.976696</td>\n",
              "      <td>0.903936</td>\n",
              "      <td>0.928329</td>\n",
              "      <td>0.007017</td>\n",
              "      <td>0.003215</td>\n",
              "      <td>0.861794</td>\n",
              "      <td>0.994199</td>\n",
              "      <td>SEKER</td>\n",
              "    </tr>\n",
              "    <tr>\n",
              "      <th>4</th>\n",
              "      <td>30140</td>\n",
              "      <td>620.134</td>\n",
              "      <td>201.847882</td>\n",
              "      <td>190.279279</td>\n",
              "      <td>1.060798</td>\n",
              "      <td>0.333680</td>\n",
              "      <td>30417</td>\n",
              "      <td>195.896503</td>\n",
              "      <td>0.773098</td>\n",
              "      <td>0.990893</td>\n",
              "      <td>0.984877</td>\n",
              "      <td>0.970516</td>\n",
              "      <td>0.006697</td>\n",
              "      <td>0.003665</td>\n",
              "      <td>0.941900</td>\n",
              "      <td>0.999166</td>\n",
              "      <td>SEKER</td>\n",
              "    </tr>\n",
              "  </tbody>\n",
              "</table>\n",
              "</div>\n",
              "      <button class=\"colab-df-convert\" onclick=\"convertToInteractive('df-297f89c9-b0e8-4e3b-9e19-af28a95511d5')\"\n",
              "              title=\"Convert this dataframe to an interactive table.\"\n",
              "              style=\"display:none;\">\n",
              "        \n",
              "  <svg xmlns=\"http://www.w3.org/2000/svg\" height=\"24px\"viewBox=\"0 0 24 24\"\n",
              "       width=\"24px\">\n",
              "    <path d=\"M0 0h24v24H0V0z\" fill=\"none\"/>\n",
              "    <path d=\"M18.56 5.44l.94 2.06.94-2.06 2.06-.94-2.06-.94-.94-2.06-.94 2.06-2.06.94zm-11 1L8.5 8.5l.94-2.06 2.06-.94-2.06-.94L8.5 2.5l-.94 2.06-2.06.94zm10 10l.94 2.06.94-2.06 2.06-.94-2.06-.94-.94-2.06-.94 2.06-2.06.94z\"/><path d=\"M17.41 7.96l-1.37-1.37c-.4-.4-.92-.59-1.43-.59-.52 0-1.04.2-1.43.59L10.3 9.45l-7.72 7.72c-.78.78-.78 2.05 0 2.83L4 21.41c.39.39.9.59 1.41.59.51 0 1.02-.2 1.41-.59l7.78-7.78 2.81-2.81c.8-.78.8-2.07 0-2.86zM5.41 20L4 18.59l7.72-7.72 1.47 1.35L5.41 20z\"/>\n",
              "  </svg>\n",
              "      </button>\n",
              "      \n",
              "  <style>\n",
              "    .colab-df-container {\n",
              "      display:flex;\n",
              "      flex-wrap:wrap;\n",
              "      gap: 12px;\n",
              "    }\n",
              "\n",
              "    .colab-df-convert {\n",
              "      background-color: #E8F0FE;\n",
              "      border: none;\n",
              "      border-radius: 50%;\n",
              "      cursor: pointer;\n",
              "      display: none;\n",
              "      fill: #1967D2;\n",
              "      height: 32px;\n",
              "      padding: 0 0 0 0;\n",
              "      width: 32px;\n",
              "    }\n",
              "\n",
              "    .colab-df-convert:hover {\n",
              "      background-color: #E2EBFA;\n",
              "      box-shadow: 0px 1px 2px rgba(60, 64, 67, 0.3), 0px 1px 3px 1px rgba(60, 64, 67, 0.15);\n",
              "      fill: #174EA6;\n",
              "    }\n",
              "\n",
              "    [theme=dark] .colab-df-convert {\n",
              "      background-color: #3B4455;\n",
              "      fill: #D2E3FC;\n",
              "    }\n",
              "\n",
              "    [theme=dark] .colab-df-convert:hover {\n",
              "      background-color: #434B5C;\n",
              "      box-shadow: 0px 1px 3px 1px rgba(0, 0, 0, 0.15);\n",
              "      filter: drop-shadow(0px 1px 2px rgba(0, 0, 0, 0.3));\n",
              "      fill: #FFFFFF;\n",
              "    }\n",
              "  </style>\n",
              "\n",
              "      <script>\n",
              "        const buttonEl =\n",
              "          document.querySelector('#df-297f89c9-b0e8-4e3b-9e19-af28a95511d5 button.colab-df-convert');\n",
              "        buttonEl.style.display =\n",
              "          google.colab.kernel.accessAllowed ? 'block' : 'none';\n",
              "\n",
              "        async function convertToInteractive(key) {\n",
              "          const element = document.querySelector('#df-297f89c9-b0e8-4e3b-9e19-af28a95511d5');\n",
              "          const dataTable =\n",
              "            await google.colab.kernel.invokeFunction('convertToInteractive',\n",
              "                                                     [key], {});\n",
              "          if (!dataTable) return;\n",
              "\n",
              "          const docLinkHtml = 'Like what you see? Visit the ' +\n",
              "            '<a target=\"_blank\" href=https://colab.research.google.com/notebooks/data_table.ipynb>data table notebook</a>'\n",
              "            + ' to learn more about interactive tables.';\n",
              "          element.innerHTML = '';\n",
              "          dataTable['output_type'] = 'display_data';\n",
              "          await google.colab.output.renderOutput(dataTable, element);\n",
              "          const docLink = document.createElement('div');\n",
              "          docLink.innerHTML = docLinkHtml;\n",
              "          element.appendChild(docLink);\n",
              "        }\n",
              "      </script>\n",
              "    </div>\n",
              "  </div>\n",
              "  "
            ]
          },
          "metadata": {},
          "execution_count": 8
        }
      ],
      "source": [
        "beans.head()"
      ]
    },
    {
      "cell_type": "code",
      "execution_count": null,
      "metadata": {
        "id": "-pxlZZOgyzO-"
      },
      "outputs": [],
      "source": [
        "beans_gan = GAN(num_epochs=500, g_params=[256,256], d_params=[256,256])"
      ]
    },
    {
      "cell_type": "code",
      "execution_count": null,
      "metadata": {
        "id": "neGBnE_by1i3",
        "colab": {
          "base_uri": "https://localhost:8080/"
        },
        "outputId": "e971a7a6-01e7-440f-c1ba-01bbf77c6496"
      },
      "outputs": [
        {
          "output_type": "stream",
          "name": "stdout",
          "text": [
            "Epoch: 0 Loss Discriminator: 0.4836772382259369\n",
            "Epoch: 0 Loss Generator: 0.763938844203949\n",
            "Epoch: 10 Loss Discriminator: 0.40003740787506104\n",
            "Epoch: 10 Loss Generator: 1.9673302173614502\n",
            "Epoch: 20 Loss Discriminator: 0.26625388860702515\n",
            "Epoch: 20 Loss Generator: 2.7656402587890625\n",
            "Epoch: 30 Loss Discriminator: 0.12231291830539703\n",
            "Epoch: 30 Loss Generator: 6.14047908782959\n",
            "Epoch: 40 Loss Discriminator: 0.06501613557338715\n",
            "Epoch: 40 Loss Generator: 5.5012593269348145\n",
            "Epoch: 50 Loss Discriminator: 0.1224774718284607\n",
            "Epoch: 50 Loss Generator: 5.380167484283447\n",
            "Epoch: 60 Loss Discriminator: 0.19620999693870544\n",
            "Epoch: 60 Loss Generator: 5.133872032165527\n",
            "Epoch: 70 Loss Discriminator: 0.05925190821290016\n",
            "Epoch: 70 Loss Generator: 4.400295257568359\n",
            "Epoch: 80 Loss Discriminator: 0.05941549688577652\n",
            "Epoch: 80 Loss Generator: 5.291478157043457\n",
            "Epoch: 90 Loss Discriminator: 0.060093533247709274\n",
            "Epoch: 90 Loss Generator: 4.546974182128906\n",
            "Epoch: 100 Loss Discriminator: 0.03849926218390465\n",
            "Epoch: 100 Loss Generator: 6.054586410522461\n",
            "Epoch: 110 Loss Discriminator: 0.04547244310379028\n",
            "Epoch: 110 Loss Generator: 5.313519477844238\n",
            "Epoch: 120 Loss Discriminator: 0.1411629319190979\n",
            "Epoch: 120 Loss Generator: 3.796698570251465\n",
            "Epoch: 130 Loss Discriminator: 0.016505923122167587\n",
            "Epoch: 130 Loss Generator: 7.0473103523254395\n",
            "Epoch: 140 Loss Discriminator: 0.020516088232398033\n",
            "Epoch: 140 Loss Generator: 5.894327163696289\n",
            "Epoch: 150 Loss Discriminator: 0.05233575403690338\n",
            "Epoch: 150 Loss Generator: 13.144323348999023\n",
            "Epoch: 160 Loss Discriminator: 0.09550002962350845\n",
            "Epoch: 160 Loss Generator: 3.798382043838501\n",
            "Epoch: 170 Loss Discriminator: 1.2108633518218994\n",
            "Epoch: 170 Loss Generator: 3.0563719272613525\n",
            "Epoch: 180 Loss Discriminator: 0.15128101408481598\n",
            "Epoch: 180 Loss Generator: 4.5350494384765625\n",
            "Epoch: 190 Loss Discriminator: 0.1537339985370636\n",
            "Epoch: 190 Loss Generator: 2.8572492599487305\n",
            "Epoch: 200 Loss Discriminator: 0.17280316352844238\n",
            "Epoch: 200 Loss Generator: 3.1610569953918457\n",
            "Epoch: 210 Loss Discriminator: 0.20159222185611725\n",
            "Epoch: 210 Loss Generator: 4.870791435241699\n",
            "Epoch: 220 Loss Discriminator: 0.12023179233074188\n",
            "Epoch: 220 Loss Generator: 4.901576519012451\n",
            "Epoch: 230 Loss Discriminator: 0.006962769664824009\n",
            "Epoch: 230 Loss Generator: 7.327679634094238\n",
            "Epoch: 240 Loss Discriminator: 0.08928173780441284\n",
            "Epoch: 240 Loss Generator: 9.938714027404785\n",
            "Epoch: 250 Loss Discriminator: 0.05177460238337517\n",
            "Epoch: 250 Loss Generator: 6.475651741027832\n",
            "Epoch: 260 Loss Discriminator: 0.004654839634895325\n",
            "Epoch: 260 Loss Generator: 7.254472732543945\n",
            "Epoch: 270 Loss Discriminator: 0.05124782398343086\n",
            "Epoch: 270 Loss Generator: 6.261468887329102\n",
            "Epoch: 280 Loss Discriminator: 0.08259768038988113\n",
            "Epoch: 280 Loss Generator: 5.736980438232422\n",
            "Epoch: 290 Loss Discriminator: 0.2705394923686981\n",
            "Epoch: 290 Loss Generator: 5.0298380851745605\n",
            "Epoch: 300 Loss Discriminator: 0.010368947871029377\n",
            "Epoch: 300 Loss Generator: 6.110321998596191\n",
            "Epoch: 310 Loss Discriminator: 0.36304083466529846\n",
            "Epoch: 310 Loss Generator: 4.6819305419921875\n",
            "Epoch: 320 Loss Discriminator: 1.0596332550048828\n",
            "Epoch: 320 Loss Generator: 3.0437092781066895\n",
            "Epoch: 330 Loss Discriminator: 4.406311988830566\n",
            "Epoch: 330 Loss Generator: 5.053271770477295\n",
            "Epoch: 340 Loss Discriminator: 0.4549903869628906\n",
            "Epoch: 340 Loss Generator: 2.1023197174072266\n",
            "Epoch: 350 Loss Discriminator: 0.12351677566766739\n",
            "Epoch: 350 Loss Generator: 3.018984079360962\n",
            "Epoch: 360 Loss Discriminator: 0.2751867473125458\n",
            "Epoch: 360 Loss Generator: 4.359611988067627\n",
            "Epoch: 370 Loss Discriminator: 0.19978410005569458\n",
            "Epoch: 370 Loss Generator: 3.027156352996826\n",
            "Epoch: 380 Loss Discriminator: 0.2615498900413513\n",
            "Epoch: 380 Loss Generator: 4.133413791656494\n",
            "Epoch: 390 Loss Discriminator: 0.12251215428113937\n",
            "Epoch: 390 Loss Generator: 4.0691704750061035\n",
            "Epoch: 400 Loss Discriminator: 0.09652891755104065\n",
            "Epoch: 400 Loss Generator: 4.473998069763184\n",
            "Epoch: 410 Loss Discriminator: 0.1227935254573822\n",
            "Epoch: 410 Loss Generator: 7.005301475524902\n",
            "Epoch: 420 Loss Discriminator: 0.1799655705690384\n",
            "Epoch: 420 Loss Generator: 4.781310081481934\n",
            "Epoch: 430 Loss Discriminator: 0.02111351676285267\n",
            "Epoch: 430 Loss Generator: 5.976484298706055\n",
            "Epoch: 440 Loss Discriminator: 0.013922655954957008\n",
            "Epoch: 440 Loss Generator: 6.721372604370117\n",
            "Epoch: 450 Loss Discriminator: 0.11672582477331161\n",
            "Epoch: 450 Loss Generator: 9.192763328552246\n",
            "Epoch: 460 Loss Discriminator: 0.2229309380054474\n",
            "Epoch: 460 Loss Generator: 5.811899662017822\n",
            "Epoch: 470 Loss Discriminator: 0.006345536094158888\n",
            "Epoch: 470 Loss Generator: 6.889848709106445\n",
            "Epoch: 480 Loss Discriminator: 0.71446293592453\n",
            "Epoch: 480 Loss Generator: 4.966730117797852\n",
            "Epoch: 490 Loss Discriminator: 0.5002620220184326\n",
            "Epoch: 490 Loss Generator: 3.543067693710327\n"
          ]
        }
      ],
      "source": [
        "beans_gan.fit(beans, categorical_columns=['Class'])"
      ]
    },
    {
      "cell_type": "code",
      "execution_count": null,
      "metadata": {
        "id": "6Dg2PRXk6_SX"
      },
      "outputs": [],
      "source": [
        "samples = beans_gan.sample(10000)"
      ]
    },
    {
      "cell_type": "code",
      "execution_count": null,
      "metadata": {
        "id": "ZMpBlmP5mk9O",
        "colab": {
          "base_uri": "https://localhost:8080/",
          "height": 269
        },
        "outputId": "a2fbd48e-8a97-4dff-dfba-5f025ac3e1e7"
      },
      "outputs": [
        {
          "output_type": "display_data",
          "data": {
            "text/plain": [
              "<Figure size 432x288 with 2 Axes>"
            ],
            "image/png": "[encoded data removed]"
          },
          "metadata": {
            "needs_background": "light"
          }
        }
      ],
      "source": [
        "df = pd.DataFrame(samples)\n",
        "df2 = df.drop([16], axis=1).astype(float)\n",
        "corrMatrix = df2.corr()\n",
        "sn.heatmap(corrMatrix, annot=True)\n",
        "plt.show()"
      ]
    },
    {
      "cell_type": "code",
      "execution_count": null,
      "metadata": {
        "id": "0mx2eq22zafH",
        "colab": {
          "base_uri": "https://localhost:8080/",
          "height": 343
        },
        "outputId": "4447b0c0-5ee0-4272-ea4c-47edb199294f"
      },
      "outputs": [
        {
          "output_type": "display_data",
          "data": {
            "text/plain": [
              "<Figure size 432x288 with 2 Axes>"
            ],
            "image/png": "[encoded data removed]"
          },
          "metadata": {
            "needs_background": "light"
          }
        }
      ],
      "source": [
        "corrM = beans.corr()\n",
        "sn.heatmap(corrM, annot=True)\n",
        "plt.show()"
      ]
    },
    {
      "cell_type": "code",
      "execution_count": null,
      "metadata": {
        "id": "s-vgX9anFzof",
        "colab": {
          "base_uri": "https://localhost:8080/"
        },
        "outputId": "eec57124-1983-40b9-90af-5db84e96aeea"
      },
      "outputs": [
        {
          "output_type": "execute_result",
          "data": {
            "text/plain": [
              "0.00698285260097667"
            ]
          },
          "metadata": {},
          "execution_count": 20
        }
      ],
      "source": [
        "distance(corrM, corrMatrix)"
      ]
    },
    {
      "cell_type": "code",
      "source": [
        "model = GAN(num_epochs=500, g_params=[512], d_params=[512], latent_dim=64)\n",
        "data1, data2 = create_statistics(beans, 'Class', model=model, categorical_columns=['Class'], classification=True)"
      ],
      "metadata": {
        "colab": {
          "base_uri": "https://localhost:8080/"
        },
        "id": "Z0dxWbOrnA3W",
        "outputId": "591b429b-0215-4fc8-ddb0-54f8d098e46e"
      },
      "execution_count": null,
      "outputs": [
        {
          "output_type": "stream",
          "name": "stdout",
          "text": [
            "Epoch: 0 Loss Discriminator: 0.5303336977958679\n",
            "Epoch: 0 Loss Generator: 0.8274015188217163\n",
            "Epoch: 10 Loss Discriminator: 0.4110545516014099\n",
            "Epoch: 10 Loss Generator: 1.3702032566070557\n",
            "Epoch: 20 Loss Discriminator: 0.40415364503860474\n",
            "Epoch: 20 Loss Generator: 1.7694284915924072\n",
            "Epoch: 30 Loss Discriminator: 0.41845986247062683\n",
            "Epoch: 30 Loss Generator: 1.315557837486267\n",
            "Epoch: 40 Loss Discriminator: 0.40097159147262573\n",
            "Epoch: 40 Loss Generator: 1.471883773803711\n",
            "Epoch: 50 Loss Discriminator: 0.3810935914516449\n",
            "Epoch: 50 Loss Generator: 1.5050040483474731\n",
            "Epoch: 60 Loss Discriminator: 0.38649851083755493\n",
            "Epoch: 60 Loss Generator: 1.4062912464141846\n",
            "Epoch: 70 Loss Discriminator: 0.2710927426815033\n",
            "Epoch: 70 Loss Generator: 1.841867446899414\n",
            "Epoch: 80 Loss Discriminator: 0.38363879919052124\n",
            "Epoch: 80 Loss Generator: 1.6424640417099\n",
            "Epoch: 90 Loss Discriminator: 0.4795847535133362\n",
            "Epoch: 90 Loss Generator: 1.881422758102417\n",
            "Epoch: 100 Loss Discriminator: 0.4748373329639435\n",
            "Epoch: 100 Loss Generator: 1.7081116437911987\n",
            "Epoch: 110 Loss Discriminator: 0.3713146448135376\n",
            "Epoch: 110 Loss Generator: 1.8039445877075195\n",
            "Epoch: 120 Loss Discriminator: 0.3998074531555176\n",
            "Epoch: 120 Loss Generator: 1.4999321699142456\n",
            "Epoch: 130 Loss Discriminator: 0.419903039932251\n",
            "Epoch: 130 Loss Generator: 1.411400318145752\n",
            "Epoch: 140 Loss Discriminator: 0.4099768400192261\n",
            "Epoch: 140 Loss Generator: 1.6483546495437622\n",
            "Epoch: 150 Loss Discriminator: 0.45423394441604614\n",
            "Epoch: 150 Loss Generator: 1.414674997329712\n",
            "Epoch: 160 Loss Discriminator: 0.5213863849639893\n",
            "Epoch: 160 Loss Generator: 1.262190580368042\n",
            "Epoch: 170 Loss Discriminator: 0.39749258756637573\n",
            "Epoch: 170 Loss Generator: 1.6062089204788208\n",
            "Epoch: 180 Loss Discriminator: 0.3651570677757263\n",
            "Epoch: 180 Loss Generator: 1.6116074323654175\n",
            "Epoch: 190 Loss Discriminator: 0.4887615740299225\n",
            "Epoch: 190 Loss Generator: 1.3795592784881592\n",
            "Epoch: 200 Loss Discriminator: 0.4083320200443268\n",
            "Epoch: 200 Loss Generator: 1.4296410083770752\n",
            "Epoch: 210 Loss Discriminator: 0.3556578755378723\n",
            "Epoch: 210 Loss Generator: 1.9262109994888306\n",
            "Epoch: 220 Loss Discriminator: 0.4516562819480896\n",
            "Epoch: 220 Loss Generator: 1.4617639780044556\n",
            "Epoch: 230 Loss Discriminator: 0.3766663074493408\n",
            "Epoch: 230 Loss Generator: 1.67314612865448\n",
            "Epoch: 240 Loss Discriminator: 0.3818873167037964\n",
            "Epoch: 240 Loss Generator: 1.6796298027038574\n",
            "Epoch: 250 Loss Discriminator: 0.373246431350708\n",
            "Epoch: 250 Loss Generator: 1.5007108449935913\n",
            "Epoch: 260 Loss Discriminator: 0.504043698310852\n",
            "Epoch: 260 Loss Generator: 1.5985915660858154\n",
            "Epoch: 270 Loss Discriminator: 0.55318683385849\n",
            "Epoch: 270 Loss Generator: 1.616172194480896\n",
            "Epoch: 280 Loss Discriminator: 0.39269793033599854\n",
            "Epoch: 280 Loss Generator: 1.4246265888214111\n",
            "Epoch: 290 Loss Discriminator: 0.41701412200927734\n",
            "Epoch: 290 Loss Generator: 1.4027423858642578\n",
            "Epoch: 300 Loss Discriminator: 0.43635624647140503\n",
            "Epoch: 300 Loss Generator: 1.4039251804351807\n",
            "Epoch: 310 Loss Discriminator: 0.3505310118198395\n",
            "Epoch: 310 Loss Generator: 1.8363288640975952\n",
            "Epoch: 320 Loss Discriminator: 0.5348547697067261\n",
            "Epoch: 320 Loss Generator: 1.5069774389266968\n",
            "Epoch: 330 Loss Discriminator: 0.5180295705795288\n",
            "Epoch: 330 Loss Generator: 1.5002644062042236\n",
            "Epoch: 340 Loss Discriminator: 0.4068066477775574\n",
            "Epoch: 340 Loss Generator: 1.5023608207702637\n",
            "Epoch: 350 Loss Discriminator: 0.32760849595069885\n",
            "Epoch: 350 Loss Generator: 1.8335938453674316\n",
            "Epoch: 360 Loss Discriminator: 0.44445961713790894\n",
            "Epoch: 360 Loss Generator: 1.4206722974777222\n",
            "Epoch: 370 Loss Discriminator: 0.4017380475997925\n",
            "Epoch: 370 Loss Generator: 1.978569746017456\n",
            "Epoch: 380 Loss Discriminator: 0.4037763476371765\n",
            "Epoch: 380 Loss Generator: 1.7376410961151123\n",
            "Epoch: 390 Loss Discriminator: 0.4273681640625\n",
            "Epoch: 390 Loss Generator: 1.5420397520065308\n",
            "Epoch: 400 Loss Discriminator: 0.3933524787425995\n",
            "Epoch: 400 Loss Generator: 1.765209436416626\n",
            "Epoch: 410 Loss Discriminator: 0.3906124532222748\n",
            "Epoch: 410 Loss Generator: 1.7101486921310425\n",
            "Epoch: 420 Loss Discriminator: 0.401749849319458\n",
            "Epoch: 420 Loss Generator: 1.5153087377548218\n",
            "Epoch: 430 Loss Discriminator: 0.37026482820510864\n",
            "Epoch: 430 Loss Generator: 1.601454734802246\n",
            "Epoch: 440 Loss Discriminator: 0.3891128897666931\n",
            "Epoch: 440 Loss Generator: 1.6947474479675293\n",
            "Epoch: 450 Loss Discriminator: 0.39468157291412354\n",
            "Epoch: 450 Loss Generator: 1.306990385055542\n",
            "Epoch: 460 Loss Discriminator: 0.357208788394928\n",
            "Epoch: 460 Loss Generator: 1.700488805770874\n",
            "Epoch: 470 Loss Discriminator: 0.3454313278198242\n",
            "Epoch: 470 Loss Generator: 1.8613290786743164\n",
            "Epoch: 480 Loss Discriminator: 0.34513428807258606\n",
            "Epoch: 480 Loss Generator: 1.7940858602523804\n",
            "Epoch: 490 Loss Discriminator: 0.41818833351135254\n",
            "Epoch: 490 Loss Generator: 1.5072064399719238\n"
          ]
        }
      ]
    },
    {
      "cell_type": "code",
      "source": [
        "plt.ylabel('Accuracy')\n",
        "bp = plt.boxplot([data1, data2])\n",
        "plt.xticks([1, 2], ['Generated', 'Original'])\n",
        "plt.show()"
      ],
      "metadata": {
        "id": "YmXFB92MyCue",
        "colab": {
          "base_uri": "https://localhost:8080/",
          "height": 265
        },
        "outputId": "2a1a4742-5084-4da8-a2d5-9d5025c3436b"
      },
      "execution_count": null,
      "outputs": [
        {
          "output_type": "display_data",
          "data": {
            "text/plain": [
              "<Figure size 432x288 with 1 Axes>"
            ],
            "image/png": "[encoded data removed]"
          },
          "metadata": {
            "needs_background": "light"
          }
        }
      ]
    },
    {
      "cell_type": "code",
      "source": [
        "data1.mean()"
      ],
      "metadata": {
        "id": "9CSgPOPazcsa",
        "colab": {
          "base_uri": "https://localhost:8080/"
        },
        "outputId": "f56c1d95-f6e7-4966-9e41-2f691e7967ab"
      },
      "execution_count": null,
      "outputs": [
        {
          "output_type": "execute_result",
          "data": {
            "text/plain": [
              "0.7167746675483068"
            ]
          },
          "metadata": {},
          "execution_count": 14
        }
      ]
    },
    {
      "cell_type": "code",
      "source": [
        "data2.mean()"
      ],
      "metadata": {
        "id": "qRlQkYoWyExs",
        "colab": {
          "base_uri": "https://localhost:8080/"
        },
        "outputId": "4633e34c-f116-4765-dfaf-33d4286c536b"
      },
      "execution_count": null,
      "outputs": [
        {
          "output_type": "execute_result",
          "data": {
            "text/plain": [
              "0.9238230972671172"
            ]
          },
          "metadata": {},
          "execution_count": 64
        }
      ]
    },
    {
      "cell_type": "code",
      "source": [
        "model = GAN()\n",
        "data1, data2 = create_statistics(beans, 'Class', model=model, categorical_columns=['Class'], classification=True, method='knn')"
      ],
      "metadata": {
        "colab": {
          "base_uri": "https://localhost:8080/"
        },
        "id": "vo5fGE4cyiV_",
        "outputId": "e2c1fa55-afc6-471d-8f8c-c4d4580fc6aa"
      },
      "execution_count": 19,
      "outputs": [
        {
          "output_type": "stream",
          "name": "stdout",
          "text": [
            "Epoch: 0 Loss Discriminator: 0.4819563329219818\n",
            "Epoch: 0 Loss Generator: 0.8158695697784424\n",
            "Epoch: 10 Loss Discriminator: 0.27600327134132385\n",
            "Epoch: 10 Loss Generator: 2.3333852291107178\n",
            "Epoch: 20 Loss Discriminator: 0.25379395484924316\n",
            "Epoch: 20 Loss Generator: 2.5240631103515625\n",
            "Epoch: 30 Loss Discriminator: 0.1931915581226349\n",
            "Epoch: 30 Loss Generator: 2.7498655319213867\n",
            "Epoch: 40 Loss Discriminator: 0.12539511919021606\n",
            "Epoch: 40 Loss Generator: 4.149425029754639\n",
            "Epoch: 50 Loss Discriminator: 0.06265243887901306\n",
            "Epoch: 50 Loss Generator: 5.149791717529297\n",
            "Epoch: 60 Loss Discriminator: 0.1308709681034088\n",
            "Epoch: 60 Loss Generator: 4.76827335357666\n",
            "Epoch: 70 Loss Discriminator: 0.10513020306825638\n",
            "Epoch: 70 Loss Generator: 7.969481468200684\n",
            "Epoch: 80 Loss Discriminator: 0.1745138168334961\n",
            "Epoch: 80 Loss Generator: 3.08388090133667\n",
            "Epoch: 90 Loss Discriminator: 0.10014954209327698\n",
            "Epoch: 90 Loss Generator: 8.246912002563477\n",
            "Epoch: 100 Loss Discriminator: 0.07592067867517471\n",
            "Epoch: 100 Loss Generator: 5.812687397003174\n",
            "Epoch: 110 Loss Discriminator: 0.19407495856285095\n",
            "Epoch: 110 Loss Generator: 4.694109916687012\n",
            "Epoch: 120 Loss Discriminator: 0.05691041797399521\n",
            "Epoch: 120 Loss Generator: 5.981235027313232\n",
            "Epoch: 130 Loss Discriminator: 0.05267321318387985\n",
            "Epoch: 130 Loss Generator: 6.022332191467285\n",
            "Epoch: 140 Loss Discriminator: 0.04951177164912224\n",
            "Epoch: 140 Loss Generator: 5.160902976989746\n",
            "Epoch: 150 Loss Discriminator: 0.07465164363384247\n",
            "Epoch: 150 Loss Generator: 6.30435037612915\n",
            "Epoch: 160 Loss Discriminator: 0.05630050599575043\n",
            "Epoch: 160 Loss Generator: 7.328279972076416\n",
            "Epoch: 170 Loss Discriminator: 0.016619952395558357\n",
            "Epoch: 170 Loss Generator: 5.831421375274658\n",
            "Epoch: 180 Loss Discriminator: 0.13451094925403595\n",
            "Epoch: 180 Loss Generator: 5.594050407409668\n",
            "Epoch: 190 Loss Discriminator: 0.5775012373924255\n",
            "Epoch: 190 Loss Generator: 3.923544406890869\n",
            "Epoch: 200 Loss Discriminator: 1.386164665222168\n",
            "Epoch: 200 Loss Generator: 4.19466495513916\n",
            "Epoch: 210 Loss Discriminator: 2.0852179527282715\n",
            "Epoch: 210 Loss Generator: 3.400592088699341\n",
            "Epoch: 220 Loss Discriminator: 1.3762154579162598\n",
            "Epoch: 220 Loss Generator: 3.93365478515625\n",
            "Epoch: 230 Loss Discriminator: 0.2457667887210846\n",
            "Epoch: 230 Loss Generator: 3.152573585510254\n",
            "Epoch: 240 Loss Discriminator: 0.5048457384109497\n",
            "Epoch: 240 Loss Generator: 3.652806520462036\n",
            "Epoch: 250 Loss Discriminator: 0.3442341387271881\n",
            "Epoch: 250 Loss Generator: 2.9681360721588135\n",
            "Epoch: 260 Loss Discriminator: 0.3629104793071747\n",
            "Epoch: 260 Loss Generator: 2.834918260574341\n",
            "Epoch: 270 Loss Discriminator: 1.0046626329421997\n",
            "Epoch: 270 Loss Generator: 2.024799346923828\n",
            "Epoch: 280 Loss Discriminator: 0.36544063687324524\n",
            "Epoch: 280 Loss Generator: 1.6913325786590576\n",
            "Epoch: 290 Loss Discriminator: 0.43115517497062683\n",
            "Epoch: 290 Loss Generator: 2.2617716789245605\n"
          ]
        }
      ]
    },
    {
      "cell_type": "code",
      "source": [
        "plt.ylabel('Accuracy')\n",
        "bp = plt.boxplot([data1, data2])\n",
        "plt.xticks([1, 2], ['Generated', 'Original'])\n",
        "plt.show()"
      ],
      "metadata": {
        "colab": {
          "base_uri": "https://localhost:8080/",
          "height": 268
        },
        "id": "FJdvzkuxylZk",
        "outputId": "48df0b43-fc31-4c3f-e827-12fdc4512386"
      },
      "execution_count": 20,
      "outputs": [
        {
          "output_type": "display_data",
          "data": {
            "text/plain": [
              "<Figure size 432x288 with 1 Axes>"
            ],
            "image/png": "[encoded data removed]"
          },
          "metadata": {
            "needs_background": "light"
          }
        }
      ]
    },
    {
      "cell_type": "code",
      "source": [
        "data1.mean()"
      ],
      "metadata": {
        "colab": {
          "base_uri": "https://localhost:8080/"
        },
        "id": "2QpRiJgyymL1",
        "outputId": "c2bd5739-a102-48ad-e233-67cce9fc03d0"
      },
      "execution_count": 22,
      "outputs": [
        {
          "output_type": "execute_result",
          "data": {
            "text/plain": [
              "0.48606641686870916"
            ]
          },
          "metadata": {},
          "execution_count": 22
        }
      ]
    },
    {
      "cell_type": "code",
      "source": [
        "data2.mean()"
      ],
      "metadata": {
        "colab": {
          "base_uri": "https://localhost:8080/"
        },
        "id": "zzNWcxBYymfy",
        "outputId": "0e88bce1-12b6-4459-ddfd-65c814efddce"
      },
      "execution_count": null,
      "outputs": [
        {
          "output_type": "execute_result",
          "data": {
            "text/plain": [
              "0.7222597707904792"
            ]
          },
          "metadata": {},
          "execution_count": 27
        }
      ]
    },
    {
      "cell_type": "markdown",
      "metadata": {
        "id": "fSrngt081tgS"
      },
      "source": [
        "# Real estate dataset"
      ]
    },
    {
      "cell_type": "code",
      "execution_count": null,
      "metadata": {
        "id": "uigSKaVb1xwq"
      },
      "outputs": [],
      "source": [
        "real_estate = pd.read_csv('drive/MyDrive/Datasets/Real estate.csv', sep=',')"
      ]
    },
    {
      "cell_type": "code",
      "execution_count": null,
      "metadata": {
        "colab": {
          "base_uri": "https://localhost:8080/",
          "height": 267
        },
        "id": "xHc2Sbfj1-ex",
        "outputId": "086e39a6-386c-41f3-e6bf-80b1d64b5ea9"
      },
      "outputs": [
        {
          "output_type": "execute_result",
          "data": {
            "text/plain": [
              "   No  X1 transaction date  X2 house age  \\\n",
              "0   1             2012.917          32.0   \n",
              "1   2             2012.917          19.5   \n",
              "2   3             2013.583          13.3   \n",
              "3   4             2013.500          13.3   \n",
              "4   5             2012.833           5.0   \n",
              "\n",
              "   X3 distance to the nearest MRT station  X4 number of convenience stores  \\\n",
              "0                                84.87882                               10   \n",
              "1                               306.59470                                9   \n",
              "2                               561.98450                                5   \n",
              "3                               561.98450                                5   \n",
              "4                               390.56840                                5   \n",
              "\n",
              "   X5 latitude  X6 longitude  Y house price of unit area  \n",
              "0     24.98298     121.54024                        37.9  \n",
              "1     24.98034     121.53951                        42.2  \n",
              "2     24.98746     121.54391                        47.3  \n",
              "3     24.98746     121.54391                        54.8  \n",
              "4     24.97937     121.54245                        43.1  "
            ],
            "text/html": [
              "\n",
              "  <div id=\"df-2aeb84de-59f4-4771-acd6-98a679488b36\">\n",
              "    <div class=\"colab-df-container\">\n",
              "      <div>\n",
              "<style scoped>\n",
              "    .dataframe tbody tr th:only-of-type {\n",
              "        vertical-align: middle;\n",
              "    }\n",
              "\n",
              "    .dataframe tbody tr th {\n",
              "        vertical-align: top;\n",
              "    }\n",
              "\n",
              "    .dataframe thead th {\n",
              "        text-align: right;\n",
              "    }\n",
              "</style>\n",
              "<table border=\"1\" class=\"dataframe\">\n",
              "  <thead>\n",
              "    <tr style=\"text-align: right;\">\n",
              "      <th></th>\n",
              "      <th>No</th>\n",
              "      <th>X1 transaction date</th>\n",
              "      <th>X2 house age</th>\n",
              "      <th>X3 distance to the nearest MRT station</th>\n",
              "      <th>X4 number of convenience stores</th>\n",
              "      <th>X5 latitude</th>\n",
              "      <th>X6 longitude</th>\n",
              "      <th>Y house price of unit area</th>\n",
              "    </tr>\n",
              "  </thead>\n",
              "  <tbody>\n",
              "    <tr>\n",
              "      <th>0</th>\n",
              "      <td>1</td>\n",
              "      <td>2012.917</td>\n",
              "      <td>32.0</td>\n",
              "      <td>84.87882</td>\n",
              "      <td>10</td>\n",
              "      <td>24.98298</td>\n",
              "      <td>121.54024</td>\n",
              "      <td>37.9</td>\n",
              "    </tr>\n",
              "    <tr>\n",
              "      <th>1</th>\n",
              "      <td>2</td>\n",
              "      <td>2012.917</td>\n",
              "      <td>19.5</td>\n",
              "      <td>306.59470</td>\n",
              "      <td>9</td>\n",
              "      <td>24.98034</td>\n",
              "      <td>121.53951</td>\n",
              "      <td>42.2</td>\n",
              "    </tr>\n",
              "    <tr>\n",
              "      <th>2</th>\n",
              "      <td>3</td>\n",
              "      <td>2013.583</td>\n",
              "      <td>13.3</td>\n",
              "      <td>561.98450</td>\n",
              "      <td>5</td>\n",
              "      <td>24.98746</td>\n",
              "      <td>121.54391</td>\n",
              "      <td>47.3</td>\n",
              "    </tr>\n",
              "    <tr>\n",
              "      <th>3</th>\n",
              "      <td>4</td>\n",
              "      <td>2013.500</td>\n",
              "      <td>13.3</td>\n",
              "      <td>561.98450</td>\n",
              "      <td>5</td>\n",
              "      <td>24.98746</td>\n",
              "      <td>121.54391</td>\n",
              "      <td>54.8</td>\n",
              "    </tr>\n",
              "    <tr>\n",
              "      <th>4</th>\n",
              "      <td>5</td>\n",
              "      <td>2012.833</td>\n",
              "      <td>5.0</td>\n",
              "      <td>390.56840</td>\n",
              "      <td>5</td>\n",
              "      <td>24.97937</td>\n",
              "      <td>121.54245</td>\n",
              "      <td>43.1</td>\n",
              "    </tr>\n",
              "  </tbody>\n",
              "</table>\n",
              "</div>\n",
              "      <button class=\"colab-df-convert\" onclick=\"convertToInteractive('df-2aeb84de-59f4-4771-acd6-98a679488b36')\"\n",
              "              title=\"Convert this dataframe to an interactive table.\"\n",
              "              style=\"display:none;\">\n",
              "        \n",
              "  <svg xmlns=\"http://www.w3.org/2000/svg\" height=\"24px\"viewBox=\"0 0 24 24\"\n",
              "       width=\"24px\">\n",
              "    <path d=\"M0 0h24v24H0V0z\" fill=\"none\"/>\n",
              "    <path d=\"M18.56 5.44l.94 2.06.94-2.06 2.06-.94-2.06-.94-.94-2.06-.94 2.06-2.06.94zm-11 1L8.5 8.5l.94-2.06 2.06-.94-2.06-.94L8.5 2.5l-.94 2.06-2.06.94zm10 10l.94 2.06.94-2.06 2.06-.94-2.06-.94-.94-2.06-.94 2.06-2.06.94z\"/><path d=\"M17.41 7.96l-1.37-1.37c-.4-.4-.92-.59-1.43-.59-.52 0-1.04.2-1.43.59L10.3 9.45l-7.72 7.72c-.78.78-.78 2.05 0 2.83L4 21.41c.39.39.9.59 1.41.59.51 0 1.02-.2 1.41-.59l7.78-7.78 2.81-2.81c.8-.78.8-2.07 0-2.86zM5.41 20L4 18.59l7.72-7.72 1.47 1.35L5.41 20z\"/>\n",
              "  </svg>\n",
              "      </button>\n",
              "      \n",
              "  <style>\n",
              "    .colab-df-container {\n",
              "      display:flex;\n",
              "      flex-wrap:wrap;\n",
              "      gap: 12px;\n",
              "    }\n",
              "\n",
              "    .colab-df-convert {\n",
              "      background-color: #E8F0FE;\n",
              "      border: none;\n",
              "      border-radius: 50%;\n",
              "      cursor: pointer;\n",
              "      display: none;\n",
              "      fill: #1967D2;\n",
              "      height: 32px;\n",
              "      padding: 0 0 0 0;\n",
              "      width: 32px;\n",
              "    }\n",
              "\n",
              "    .colab-df-convert:hover {\n",
              "      background-color: #E2EBFA;\n",
              "      box-shadow: 0px 1px 2px rgba(60, 64, 67, 0.3), 0px 1px 3px 1px rgba(60, 64, 67, 0.15);\n",
              "      fill: #174EA6;\n",
              "    }\n",
              "\n",
              "    [theme=dark] .colab-df-convert {\n",
              "      background-color: #3B4455;\n",
              "      fill: #D2E3FC;\n",
              "    }\n",
              "\n",
              "    [theme=dark] .colab-df-convert:hover {\n",
              "      background-color: #434B5C;\n",
              "      box-shadow: 0px 1px 3px 1px rgba(0, 0, 0, 0.15);\n",
              "      filter: drop-shadow(0px 1px 2px rgba(0, 0, 0, 0.3));\n",
              "      fill: #FFFFFF;\n",
              "    }\n",
              "  </style>\n",
              "\n",
              "      <script>\n",
              "        const buttonEl =\n",
              "          document.querySelector('#df-2aeb84de-59f4-4771-acd6-98a679488b36 button.colab-df-convert');\n",
              "        buttonEl.style.display =\n",
              "          google.colab.kernel.accessAllowed ? 'block' : 'none';\n",
              "\n",
              "        async function convertToInteractive(key) {\n",
              "          const element = document.querySelector('#df-2aeb84de-59f4-4771-acd6-98a679488b36');\n",
              "          const dataTable =\n",
              "            await google.colab.kernel.invokeFunction('convertToInteractive',\n",
              "                                                     [key], {});\n",
              "          if (!dataTable) return;\n",
              "\n",
              "          const docLinkHtml = 'Like what you see? Visit the ' +\n",
              "            '<a target=\"_blank\" href=https://colab.research.google.com/notebooks/data_table.ipynb>data table notebook</a>'\n",
              "            + ' to learn more about interactive tables.';\n",
              "          element.innerHTML = '';\n",
              "          dataTable['output_type'] = 'display_data';\n",
              "          await google.colab.output.renderOutput(dataTable, element);\n",
              "          const docLink = document.createElement('div');\n",
              "          docLink.innerHTML = docLinkHtml;\n",
              "          element.appendChild(docLink);\n",
              "        }\n",
              "      </script>\n",
              "    </div>\n",
              "  </div>\n",
              "  "
            ]
          },
          "metadata": {},
          "execution_count": 26
        }
      ],
      "source": [
        "real_estate.head()"
      ]
    },
    {
      "cell_type": "code",
      "execution_count": null,
      "metadata": {
        "colab": {
          "base_uri": "https://localhost:8080/"
        },
        "id": "jHWv8yf91_5h",
        "outputId": "1b525201-2794-4767-ccdf-0b341853fda5"
      },
      "outputs": [
        {
          "output_type": "stream",
          "name": "stdout",
          "text": [
            "<class 'pandas.core.frame.DataFrame'>\n",
            "RangeIndex: 414 entries, 0 to 413\n",
            "Data columns (total 8 columns):\n",
            " #   Column                                  Non-Null Count  Dtype  \n",
            "---  ------                                  --------------  -----  \n",
            " 0   No                                      414 non-null    int64  \n",
            " 1   X1 transaction date                     414 non-null    float64\n",
            " 2   X2 house age                            414 non-null    float64\n",
            " 3   X3 distance to the nearest MRT station  414 non-null    float64\n",
            " 4   X4 number of convenience stores         414 non-null    int64  \n",
            " 5   X5 latitude                             414 non-null    float64\n",
            " 6   X6 longitude                            414 non-null    float64\n",
            " 7   Y house price of unit area              414 non-null    float64\n",
            "dtypes: float64(6), int64(2)\n",
            "memory usage: 26.0 KB\n"
          ]
        }
      ],
      "source": [
        "real_estate.info()"
      ]
    },
    {
      "cell_type": "code",
      "source": [
        "real_estate.shape"
      ],
      "metadata": {
        "colab": {
          "base_uri": "https://localhost:8080/"
        },
        "id": "dydn_jQp5hWw",
        "outputId": "700a5def-fc63-42f0-a02a-1b0ca7c912a9"
      },
      "execution_count": null,
      "outputs": [
        {
          "output_type": "execute_result",
          "data": {
            "text/plain": [
              "(414, 8)"
            ]
          },
          "metadata": {},
          "execution_count": 28
        }
      ]
    },
    {
      "cell_type": "code",
      "execution_count": null,
      "metadata": {
        "id": "KAu1hsDw2Mry"
      },
      "outputs": [],
      "source": [
        "real_estate_gan = GAN(g_params=[512], d_params=[512], num_epochs = 800)"
      ]
    },
    {
      "cell_type": "code",
      "execution_count": null,
      "metadata": {
        "colab": {
          "base_uri": "https://localhost:8080/"
        },
        "id": "nmaLUPrf2TG6",
        "outputId": "2a182f64-e837-4b9b-f560-cc50a8b4a965"
      },
      "outputs": [
        {
          "output_type": "stream",
          "name": "stdout",
          "text": [
            "Epoch: 0 Loss Discriminator: 0.5993825197219849\n",
            "Epoch: 0 Loss Generator: 0.6861655116081238\n",
            "Epoch: 10 Loss Discriminator: 0.2831287980079651\n",
            "Epoch: 10 Loss Generator: 1.8538473844528198\n",
            "Epoch: 20 Loss Discriminator: 0.3616514801979065\n",
            "Epoch: 20 Loss Generator: 2.5948338508605957\n",
            "Epoch: 30 Loss Discriminator: 0.4164591133594513\n",
            "Epoch: 30 Loss Generator: 2.227891445159912\n",
            "Epoch: 40 Loss Discriminator: 0.4194619059562683\n",
            "Epoch: 40 Loss Generator: 2.276982069015503\n",
            "Epoch: 50 Loss Discriminator: 0.6404070258140564\n",
            "Epoch: 50 Loss Generator: 1.2452179193496704\n",
            "Epoch: 60 Loss Discriminator: 0.6675634980201721\n",
            "Epoch: 60 Loss Generator: 0.9280734658241272\n",
            "Epoch: 70 Loss Discriminator: 0.5377859473228455\n",
            "Epoch: 70 Loss Generator: 1.0499054193496704\n",
            "Epoch: 80 Loss Discriminator: 0.6187599897384644\n",
            "Epoch: 80 Loss Generator: 0.9629978537559509\n",
            "Epoch: 90 Loss Discriminator: 0.6543383002281189\n",
            "Epoch: 90 Loss Generator: 0.9611806273460388\n",
            "Epoch: 100 Loss Discriminator: 0.6220571398735046\n",
            "Epoch: 100 Loss Generator: 0.9233840703964233\n",
            "Epoch: 110 Loss Discriminator: 0.6018362045288086\n",
            "Epoch: 110 Loss Generator: 0.9981328845024109\n",
            "Epoch: 120 Loss Discriminator: 0.5635361075401306\n",
            "Epoch: 120 Loss Generator: 1.0342516899108887\n",
            "Epoch: 130 Loss Discriminator: 0.5706043243408203\n",
            "Epoch: 130 Loss Generator: 1.0001182556152344\n",
            "Epoch: 140 Loss Discriminator: 0.6344706416130066\n",
            "Epoch: 140 Loss Generator: 0.890230119228363\n",
            "Epoch: 150 Loss Discriminator: 0.6887034773826599\n",
            "Epoch: 150 Loss Generator: 0.8478280305862427\n",
            "Epoch: 160 Loss Discriminator: 0.6524380445480347\n",
            "Epoch: 160 Loss Generator: 0.8401629328727722\n",
            "Epoch: 170 Loss Discriminator: 0.5745389461517334\n",
            "Epoch: 170 Loss Generator: 0.9869017601013184\n",
            "Epoch: 180 Loss Discriminator: 0.6253980398178101\n",
            "Epoch: 180 Loss Generator: 0.8791965842247009\n",
            "Epoch: 190 Loss Discriminator: 0.6790926456451416\n",
            "Epoch: 190 Loss Generator: 0.8103250861167908\n",
            "Epoch: 200 Loss Discriminator: 0.6422873139381409\n",
            "Epoch: 200 Loss Generator: 0.9215826392173767\n",
            "Epoch: 210 Loss Discriminator: 0.5716134309768677\n",
            "Epoch: 210 Loss Generator: 0.9454607963562012\n",
            "Epoch: 220 Loss Discriminator: 0.5456534028053284\n",
            "Epoch: 220 Loss Generator: 0.9709988832473755\n",
            "Epoch: 230 Loss Discriminator: 0.601682722568512\n",
            "Epoch: 230 Loss Generator: 0.9668517708778381\n",
            "Epoch: 240 Loss Discriminator: 0.6289549469947815\n",
            "Epoch: 240 Loss Generator: 0.8812732100486755\n",
            "Epoch: 250 Loss Discriminator: 0.6785925626754761\n",
            "Epoch: 250 Loss Generator: 0.8100196719169617\n",
            "Epoch: 260 Loss Discriminator: 0.6590866446495056\n",
            "Epoch: 260 Loss Generator: 0.85178142786026\n",
            "Epoch: 270 Loss Discriminator: 0.5973641872406006\n",
            "Epoch: 270 Loss Generator: 0.9264196753501892\n",
            "Epoch: 280 Loss Discriminator: 0.5699039101600647\n",
            "Epoch: 280 Loss Generator: 0.9406843781471252\n",
            "Epoch: 290 Loss Discriminator: 0.6374517679214478\n",
            "Epoch: 290 Loss Generator: 0.8722772002220154\n",
            "Epoch: 300 Loss Discriminator: 0.651816189289093\n",
            "Epoch: 300 Loss Generator: 0.8482123017311096\n",
            "Epoch: 310 Loss Discriminator: 0.6182524561882019\n",
            "Epoch: 310 Loss Generator: 0.9170057773590088\n",
            "Epoch: 320 Loss Discriminator: 0.6475434899330139\n",
            "Epoch: 320 Loss Generator: 0.8032614588737488\n",
            "Epoch: 330 Loss Discriminator: 0.5826682448387146\n",
            "Epoch: 330 Loss Generator: 0.9450743198394775\n",
            "Epoch: 340 Loss Discriminator: 0.6334599852561951\n",
            "Epoch: 340 Loss Generator: 0.8460559248924255\n",
            "Epoch: 350 Loss Discriminator: 0.6474829316139221\n",
            "Epoch: 350 Loss Generator: 0.8147945404052734\n",
            "Epoch: 360 Loss Discriminator: 0.6402376294136047\n",
            "Epoch: 360 Loss Generator: 0.8616198897361755\n",
            "Epoch: 370 Loss Discriminator: 0.6391651630401611\n",
            "Epoch: 370 Loss Generator: 0.8794161081314087\n",
            "Epoch: 380 Loss Discriminator: 0.6297865509986877\n",
            "Epoch: 380 Loss Generator: 0.8706434965133667\n",
            "Epoch: 390 Loss Discriminator: 0.615145742893219\n",
            "Epoch: 390 Loss Generator: 0.8920379281044006\n",
            "Epoch: 400 Loss Discriminator: 0.6199304461479187\n",
            "Epoch: 400 Loss Generator: 0.9188938140869141\n",
            "Epoch: 410 Loss Discriminator: 0.6369701027870178\n",
            "Epoch: 410 Loss Generator: 0.9109622240066528\n",
            "Epoch: 420 Loss Discriminator: 0.6351975798606873\n",
            "Epoch: 420 Loss Generator: 0.8681182265281677\n",
            "Epoch: 430 Loss Discriminator: 0.6335789561271667\n",
            "Epoch: 430 Loss Generator: 0.897507905960083\n",
            "Epoch: 440 Loss Discriminator: 0.6254037022590637\n",
            "Epoch: 440 Loss Generator: 0.8338342905044556\n",
            "Epoch: 450 Loss Discriminator: 0.6707907319068909\n",
            "Epoch: 450 Loss Generator: 0.8769895434379578\n",
            "Epoch: 460 Loss Discriminator: 0.634048342704773\n",
            "Epoch: 460 Loss Generator: 0.844836413860321\n",
            "Epoch: 470 Loss Discriminator: 0.6414811015129089\n",
            "Epoch: 470 Loss Generator: 0.8927121162414551\n",
            "Epoch: 480 Loss Discriminator: 0.6419017314910889\n",
            "Epoch: 480 Loss Generator: 0.8460198044776917\n",
            "Epoch: 490 Loss Discriminator: 0.6210761070251465\n",
            "Epoch: 490 Loss Generator: 0.8656355142593384\n",
            "Epoch: 500 Loss Discriminator: 0.6358431577682495\n",
            "Epoch: 500 Loss Generator: 0.9385073781013489\n",
            "Epoch: 510 Loss Discriminator: 0.6369912028312683\n",
            "Epoch: 510 Loss Generator: 0.8620965480804443\n",
            "Epoch: 520 Loss Discriminator: 0.62870854139328\n",
            "Epoch: 520 Loss Generator: 0.8750385046005249\n",
            "Epoch: 530 Loss Discriminator: 0.648385763168335\n",
            "Epoch: 530 Loss Generator: 0.8081232905387878\n",
            "Epoch: 540 Loss Discriminator: 0.61805260181427\n",
            "Epoch: 540 Loss Generator: 0.8963608145713806\n",
            "Epoch: 550 Loss Discriminator: 0.6473037600517273\n",
            "Epoch: 550 Loss Generator: 0.874179482460022\n",
            "Epoch: 560 Loss Discriminator: 0.6422565579414368\n",
            "Epoch: 560 Loss Generator: 0.9003668427467346\n",
            "Epoch: 570 Loss Discriminator: 0.6412821412086487\n",
            "Epoch: 570 Loss Generator: 0.8863764405250549\n",
            "Epoch: 580 Loss Discriminator: 0.6320372223854065\n",
            "Epoch: 580 Loss Generator: 0.8727842569351196\n",
            "Epoch: 590 Loss Discriminator: 0.6762439608573914\n",
            "Epoch: 590 Loss Generator: 0.8548656702041626\n",
            "Epoch: 600 Loss Discriminator: 0.6059234738349915\n",
            "Epoch: 600 Loss Generator: 0.8961848616600037\n",
            "Epoch: 610 Loss Discriminator: 0.624748945236206\n",
            "Epoch: 610 Loss Generator: 0.9391833543777466\n",
            "Epoch: 620 Loss Discriminator: 0.6045265197753906\n",
            "Epoch: 620 Loss Generator: 0.915988564491272\n",
            "Epoch: 630 Loss Discriminator: 0.6348667144775391\n",
            "Epoch: 630 Loss Generator: 0.8219624161720276\n",
            "Epoch: 640 Loss Discriminator: 0.6344608664512634\n",
            "Epoch: 640 Loss Generator: 0.8529890179634094\n",
            "Epoch: 650 Loss Discriminator: 0.6481078267097473\n",
            "Epoch: 650 Loss Generator: 0.8242800831794739\n",
            "Epoch: 660 Loss Discriminator: 0.632538378238678\n",
            "Epoch: 660 Loss Generator: 0.853033185005188\n",
            "Epoch: 670 Loss Discriminator: 0.663872241973877\n",
            "Epoch: 670 Loss Generator: 0.845237672328949\n",
            "Epoch: 680 Loss Discriminator: 0.6266368627548218\n",
            "Epoch: 680 Loss Generator: 0.7827731966972351\n",
            "Epoch: 690 Loss Discriminator: 0.6528087854385376\n",
            "Epoch: 690 Loss Generator: 0.8592981696128845\n",
            "Epoch: 700 Loss Discriminator: 0.6526859998703003\n",
            "Epoch: 700 Loss Generator: 0.8437924385070801\n",
            "Epoch: 710 Loss Discriminator: 0.6598068475723267\n",
            "Epoch: 710 Loss Generator: 0.826029896736145\n",
            "Epoch: 720 Loss Discriminator: 0.6634403467178345\n",
            "Epoch: 720 Loss Generator: 0.8749180436134338\n",
            "Epoch: 730 Loss Discriminator: 0.6596716642379761\n",
            "Epoch: 730 Loss Generator: 0.8252319693565369\n",
            "Epoch: 740 Loss Discriminator: 0.659641444683075\n",
            "Epoch: 740 Loss Generator: 0.8693077564239502\n",
            "Epoch: 750 Loss Discriminator: 0.6364384293556213\n",
            "Epoch: 750 Loss Generator: 0.8700153827667236\n",
            "Epoch: 760 Loss Discriminator: 0.6521180868148804\n",
            "Epoch: 760 Loss Generator: 0.8074763417243958\n",
            "Epoch: 770 Loss Discriminator: 0.6239796280860901\n",
            "Epoch: 770 Loss Generator: 0.8562549948692322\n",
            "Epoch: 780 Loss Discriminator: 0.6218488216400146\n",
            "Epoch: 780 Loss Generator: 0.8134860992431641\n",
            "Epoch: 790 Loss Discriminator: 0.6445960998535156\n",
            "Epoch: 790 Loss Generator: 0.8561062216758728\n"
          ]
        }
      ],
      "source": [
        "real_estate_gan.fit(real_estate)"
      ]
    },
    {
      "cell_type": "code",
      "execution_count": null,
      "metadata": {
        "id": "M8ktyPSJ2qfr"
      },
      "outputs": [],
      "source": [
        "samples = real_estate_gan.sample(10000)"
      ]
    },
    {
      "cell_type": "code",
      "execution_count": null,
      "metadata": {
        "colab": {
          "base_uri": "https://localhost:8080/",
          "height": 269
        },
        "id": "Zw-QgUgl2Wsj",
        "outputId": "91ea93fa-adc5-4404-8640-eb56ae94c909"
      },
      "outputs": [
        {
          "output_type": "display_data",
          "data": {
            "text/plain": [
              "<Figure size 432x288 with 2 Axes>"
            ],
            "image/png": "[encoded data removed]"
          },
          "metadata": {
            "needs_background": "light"
          }
        }
      ],
      "source": [
        "df = pd.DataFrame(samples)\n",
        "df2 = df.astype(float)\n",
        "corrMatrix = df2.corr()\n",
        "sn.heatmap(corrMatrix, annot=True)\n",
        "plt.show()"
      ]
    },
    {
      "cell_type": "code",
      "execution_count": null,
      "metadata": {
        "colab": {
          "base_uri": "https://localhost:8080/",
          "height": 269
        },
        "id": "OwKw-Xtc2zTt",
        "outputId": "3012e3e2-ffd0-4442-937c-8fd22bf0bd6d"
      },
      "outputs": [
        {
          "output_type": "display_data",
          "data": {
            "text/plain": [
              "<Figure size 432x288 with 2 Axes>"
            ],
            "image/png": "[encoded data removed]"
          },
          "metadata": {
            "needs_background": "light"
          }
        }
      ],
      "source": [
        "d = real_estate\n",
        "d = d.rename(columns={x:y for x,y in zip(d.columns,range(0,len(d.columns)))})\n",
        "og_matrix = d.corr()\n",
        "sn.heatmap(og_matrix, annot=True)\n",
        "plt.show()"
      ]
    },
    {
      "cell_type": "code",
      "execution_count": null,
      "metadata": {
        "colab": {
          "base_uri": "https://localhost:8080/"
        },
        "id": "EIftdfmM3KCW",
        "outputId": "d28db450-512d-4b94-ccaa-2c4bc80f6a64"
      },
      "outputs": [
        {
          "output_type": "execute_result",
          "data": {
            "text/plain": [
              "0.0037019343534203187"
            ]
          },
          "metadata": {},
          "execution_count": 34
        }
      ],
      "source": [
        "distance(og_matrix, corrMatrix)"
      ]
    },
    {
      "cell_type": "code",
      "execution_count": null,
      "metadata": {
        "colab": {
          "base_uri": "https://localhost:8080/"
        },
        "id": "smNhVZFZGogB",
        "outputId": "44072222-eb78-4f42-95fb-4e4a3c04916e"
      },
      "outputs": [
        {
          "output_type": "stream",
          "name": "stdout",
          "text": [
            "Epoch: 0 Loss Discriminator: 0.5935354828834534\n",
            "Epoch: 0 Loss Generator: 0.724964439868927\n",
            "Epoch: 10 Loss Discriminator: 0.20244362950325012\n",
            "Epoch: 10 Loss Generator: 2.1500391960144043\n",
            "Epoch: 20 Loss Discriminator: 0.31298813223838806\n",
            "Epoch: 20 Loss Generator: 2.4985079765319824\n",
            "Epoch: 30 Loss Discriminator: 0.6781468987464905\n",
            "Epoch: 30 Loss Generator: 1.6601223945617676\n",
            "Epoch: 40 Loss Discriminator: 0.8537707328796387\n",
            "Epoch: 40 Loss Generator: 1.0054770708084106\n",
            "Epoch: 50 Loss Discriminator: 0.6106273531913757\n",
            "Epoch: 50 Loss Generator: 1.236052393913269\n",
            "Epoch: 60 Loss Discriminator: 0.5021321177482605\n",
            "Epoch: 60 Loss Generator: 1.246508002281189\n",
            "Epoch: 70 Loss Discriminator: 0.7151032090187073\n",
            "Epoch: 70 Loss Generator: 0.7970144152641296\n",
            "Epoch: 80 Loss Discriminator: 0.5575553178787231\n",
            "Epoch: 80 Loss Generator: 0.986104428768158\n",
            "Epoch: 90 Loss Discriminator: 0.4803144931793213\n",
            "Epoch: 90 Loss Generator: 1.2241097688674927\n",
            "Epoch: 100 Loss Discriminator: 0.5687448382377625\n",
            "Epoch: 100 Loss Generator: 1.0402207374572754\n",
            "Epoch: 110 Loss Discriminator: 0.5722453594207764\n",
            "Epoch: 110 Loss Generator: 1.1008116006851196\n",
            "Epoch: 120 Loss Discriminator: 0.5046473145484924\n",
            "Epoch: 120 Loss Generator: 1.2240955829620361\n",
            "Epoch: 130 Loss Discriminator: 0.5292810797691345\n",
            "Epoch: 130 Loss Generator: 1.045279860496521\n",
            "Epoch: 140 Loss Discriminator: 0.5505754947662354\n",
            "Epoch: 140 Loss Generator: 1.0001838207244873\n",
            "Epoch: 150 Loss Discriminator: 0.6209347248077393\n",
            "Epoch: 150 Loss Generator: 0.9393489956855774\n",
            "Epoch: 160 Loss Discriminator: 0.5773987174034119\n",
            "Epoch: 160 Loss Generator: 1.0166014432907104\n",
            "Epoch: 170 Loss Discriminator: 0.6120185852050781\n",
            "Epoch: 170 Loss Generator: 0.8786436915397644\n",
            "Epoch: 180 Loss Discriminator: 0.6351949572563171\n",
            "Epoch: 180 Loss Generator: 0.8159784078598022\n",
            "Epoch: 190 Loss Discriminator: 0.6964084506034851\n",
            "Epoch: 190 Loss Generator: 0.8782044053077698\n",
            "Epoch: 200 Loss Discriminator: 0.6328527927398682\n",
            "Epoch: 200 Loss Generator: 0.9466149806976318\n",
            "Epoch: 210 Loss Discriminator: 0.6460855007171631\n",
            "Epoch: 210 Loss Generator: 0.91871178150177\n",
            "Epoch: 220 Loss Discriminator: 0.6600342392921448\n",
            "Epoch: 220 Loss Generator: 0.8457428812980652\n",
            "Epoch: 230 Loss Discriminator: 0.6689625382423401\n",
            "Epoch: 230 Loss Generator: 0.8283030986785889\n",
            "Epoch: 240 Loss Discriminator: 0.6846510767936707\n",
            "Epoch: 240 Loss Generator: 0.8464611768722534\n",
            "Epoch: 250 Loss Discriminator: 0.701741635799408\n",
            "Epoch: 250 Loss Generator: 0.829054594039917\n",
            "Epoch: 260 Loss Discriminator: 0.6881710886955261\n",
            "Epoch: 260 Loss Generator: 0.838347852230072\n",
            "Epoch: 270 Loss Discriminator: 0.6704521775245667\n",
            "Epoch: 270 Loss Generator: 0.8725740909576416\n",
            "Epoch: 280 Loss Discriminator: 0.6326303482055664\n",
            "Epoch: 280 Loss Generator: 0.8135465383529663\n",
            "Epoch: 290 Loss Discriminator: 0.6560596227645874\n",
            "Epoch: 290 Loss Generator: 0.8344110250473022\n",
            "Epoch: 300 Loss Discriminator: 0.6740382313728333\n",
            "Epoch: 300 Loss Generator: 0.8220288753509521\n",
            "Epoch: 310 Loss Discriminator: 0.620528519153595\n",
            "Epoch: 310 Loss Generator: 0.8773544430732727\n",
            "Epoch: 320 Loss Discriminator: 0.5757119655609131\n",
            "Epoch: 320 Loss Generator: 0.9645939469337463\n",
            "Epoch: 330 Loss Discriminator: 0.6407829523086548\n",
            "Epoch: 330 Loss Generator: 0.8206974267959595\n",
            "Epoch: 340 Loss Discriminator: 0.6170838475227356\n",
            "Epoch: 340 Loss Generator: 0.9211557507514954\n",
            "Epoch: 350 Loss Discriminator: 0.6335219144821167\n",
            "Epoch: 350 Loss Generator: 0.857532799243927\n",
            "Epoch: 360 Loss Discriminator: 0.644295871257782\n",
            "Epoch: 360 Loss Generator: 0.8687819242477417\n",
            "Epoch: 370 Loss Discriminator: 0.6760013699531555\n",
            "Epoch: 370 Loss Generator: 0.8607677221298218\n",
            "Epoch: 380 Loss Discriminator: 0.6296875476837158\n",
            "Epoch: 380 Loss Generator: 0.8720995187759399\n",
            "Epoch: 390 Loss Discriminator: 0.648696780204773\n",
            "Epoch: 390 Loss Generator: 0.8733742237091064\n",
            "Epoch: 400 Loss Discriminator: 0.6338819861412048\n",
            "Epoch: 400 Loss Generator: 0.8489025831222534\n",
            "Epoch: 410 Loss Discriminator: 0.6452112793922424\n",
            "Epoch: 410 Loss Generator: 0.8397426009178162\n",
            "Epoch: 420 Loss Discriminator: 0.6407860517501831\n",
            "Epoch: 420 Loss Generator: 0.8525540828704834\n",
            "Epoch: 430 Loss Discriminator: 0.6349066495895386\n",
            "Epoch: 430 Loss Generator: 0.8321539759635925\n",
            "Epoch: 440 Loss Discriminator: 0.6533182263374329\n",
            "Epoch: 440 Loss Generator: 0.875791609287262\n",
            "Epoch: 450 Loss Discriminator: 0.6346596479415894\n",
            "Epoch: 450 Loss Generator: 0.8945683836936951\n",
            "Epoch: 460 Loss Discriminator: 0.6274325847625732\n",
            "Epoch: 460 Loss Generator: 0.9031308889389038\n",
            "Epoch: 470 Loss Discriminator: 0.632273256778717\n",
            "Epoch: 470 Loss Generator: 0.880022406578064\n",
            "Epoch: 480 Loss Discriminator: 0.6521567106246948\n",
            "Epoch: 480 Loss Generator: 0.8670337200164795\n",
            "Epoch: 490 Loss Discriminator: 0.6388193964958191\n",
            "Epoch: 490 Loss Generator: 0.9080087542533875\n",
            "Epoch: 500 Loss Discriminator: 0.6403295397758484\n",
            "Epoch: 500 Loss Generator: 0.8706451058387756\n",
            "Epoch: 510 Loss Discriminator: 0.6554017066955566\n",
            "Epoch: 510 Loss Generator: 0.8742432594299316\n",
            "Epoch: 520 Loss Discriminator: 0.6291587948799133\n",
            "Epoch: 520 Loss Generator: 0.8640661835670471\n",
            "Epoch: 530 Loss Discriminator: 0.6287791132926941\n",
            "Epoch: 530 Loss Generator: 0.9077781438827515\n",
            "Epoch: 540 Loss Discriminator: 0.6259109377861023\n",
            "Epoch: 540 Loss Generator: 0.8710206747055054\n",
            "Epoch: 550 Loss Discriminator: 0.6323432326316833\n",
            "Epoch: 550 Loss Generator: 0.8437232971191406\n",
            "Epoch: 560 Loss Discriminator: 0.6357914209365845\n",
            "Epoch: 560 Loss Generator: 0.8461369872093201\n",
            "Epoch: 570 Loss Discriminator: 0.6470234990119934\n",
            "Epoch: 570 Loss Generator: 0.9535431265830994\n",
            "Epoch: 580 Loss Discriminator: 0.6273831129074097\n",
            "Epoch: 580 Loss Generator: 0.9181850552558899\n",
            "Epoch: 590 Loss Discriminator: 0.6353006958961487\n",
            "Epoch: 590 Loss Generator: 0.8453350067138672\n",
            "Epoch: 600 Loss Discriminator: 0.6268967390060425\n",
            "Epoch: 600 Loss Generator: 0.8478078246116638\n",
            "Epoch: 610 Loss Discriminator: 0.6300827264785767\n",
            "Epoch: 610 Loss Generator: 0.921106219291687\n",
            "Epoch: 620 Loss Discriminator: 0.6369176506996155\n",
            "Epoch: 620 Loss Generator: 0.8733857870101929\n",
            "Epoch: 630 Loss Discriminator: 0.6333104968070984\n",
            "Epoch: 630 Loss Generator: 0.8697832822799683\n",
            "Epoch: 640 Loss Discriminator: 0.6291964650154114\n",
            "Epoch: 640 Loss Generator: 0.8612191081047058\n",
            "Epoch: 650 Loss Discriminator: 0.6380664706230164\n",
            "Epoch: 650 Loss Generator: 0.8693060874938965\n",
            "Epoch: 660 Loss Discriminator: 0.6472211480140686\n",
            "Epoch: 660 Loss Generator: 0.864311158657074\n",
            "Epoch: 670 Loss Discriminator: 0.6438281536102295\n",
            "Epoch: 670 Loss Generator: 0.8712732195854187\n",
            "Epoch: 680 Loss Discriminator: 0.6381605267524719\n",
            "Epoch: 680 Loss Generator: 0.9262468814849854\n",
            "Epoch: 690 Loss Discriminator: 0.639445960521698\n",
            "Epoch: 690 Loss Generator: 0.9176107048988342\n",
            "Epoch: 700 Loss Discriminator: 0.6332218050956726\n",
            "Epoch: 700 Loss Generator: 0.8559172749519348\n",
            "Epoch: 710 Loss Discriminator: 0.6204884648323059\n",
            "Epoch: 710 Loss Generator: 0.8402261734008789\n",
            "Epoch: 720 Loss Discriminator: 0.6367931962013245\n",
            "Epoch: 720 Loss Generator: 0.8673205375671387\n",
            "Epoch: 730 Loss Discriminator: 0.6309544444084167\n",
            "Epoch: 730 Loss Generator: 0.8501580953598022\n",
            "Epoch: 740 Loss Discriminator: 0.6375235319137573\n",
            "Epoch: 740 Loss Generator: 0.8710074424743652\n",
            "Epoch: 750 Loss Discriminator: 0.6610826849937439\n",
            "Epoch: 750 Loss Generator: 0.8650197386741638\n",
            "Epoch: 760 Loss Discriminator: 0.6579669713973999\n",
            "Epoch: 760 Loss Generator: 0.8067660331726074\n",
            "Epoch: 770 Loss Discriminator: 0.6421555280685425\n",
            "Epoch: 770 Loss Generator: 0.8894400000572205\n",
            "Epoch: 780 Loss Discriminator: 0.639358401298523\n",
            "Epoch: 780 Loss Generator: 0.8171424865722656\n",
            "Epoch: 790 Loss Discriminator: 0.6304589509963989\n",
            "Epoch: 790 Loss Generator: 0.8202035427093506\n"
          ]
        }
      ],
      "source": [
        "real_estate_gan = GAN(g_params=[512], d_params=[512], num_epochs=800)\n",
        "data1, data2 = create_statistics(real_estate, model=real_estate_gan, target_column='Y house price of unit area', sample_size=real_estate.shape[0])"
      ]
    },
    {
      "cell_type": "code",
      "execution_count": null,
      "metadata": {
        "colab": {
          "base_uri": "https://localhost:8080/",
          "height": 265
        },
        "id": "UEgAFWMTG6Xh",
        "outputId": "f39944b7-4d76-432e-95c3-363d4b180c2c"
      },
      "outputs": [
        {
          "output_type": "display_data",
          "data": {
            "text/plain": [
              "<Figure size 432x288 with 1 Axes>"
            ],
            "image/png": "[encoded data removed]"
          },
          "metadata": {
            "needs_background": "light"
          }
        }
      ],
      "source": [
        "plt.ylabel('MSE')\n",
        "bp = plt.boxplot([data1, data2])\n",
        "plt.xticks([1, 2], ['Generated', 'Original'])\n",
        "plt.show()"
      ]
    },
    {
      "cell_type": "code",
      "execution_count": null,
      "metadata": {
        "colab": {
          "base_uri": "https://localhost:8080/"
        },
        "id": "Fa3n6TIGHKmp",
        "outputId": "3377a816-6d90-4c21-9be3-02d9b1b60443"
      },
      "outputs": [
        {
          "output_type": "execute_result",
          "data": {
            "text/plain": [
              "72.65489370653125"
            ]
          },
          "metadata": {},
          "execution_count": 13
        }
      ],
      "source": [
        "data1.mean()"
      ]
    },
    {
      "cell_type": "code",
      "execution_count": null,
      "metadata": {
        "colab": {
          "base_uri": "https://localhost:8080/"
        },
        "id": "E_DvwjFUKh4v",
        "outputId": "f6437cd0-c56e-494d-9599-3adf477ee021"
      },
      "outputs": [
        {
          "output_type": "execute_result",
          "data": {
            "text/plain": [
              "59.85335581499999"
            ]
          },
          "metadata": {},
          "execution_count": 14
        }
      ],
      "source": [
        "data2.mean()"
      ]
    },
    {
      "cell_type": "code",
      "source": [
        "real_estate_gan = GAN(g_params=[512, 512], d_params=[512, 512], num_epochs=800)\n",
        "data1, data2 = create_statistics(real_estate, model=real_estate_gan, target_column='Y house price of unit area', method='knn', sample_size=real_estate.shape[0])"
      ],
      "metadata": {
        "colab": {
          "base_uri": "https://localhost:8080/"
        },
        "id": "gzzhyyNSOBia",
        "outputId": "bfc3e945-ef79-44f4-9197-61da830befc8"
      },
      "execution_count": null,
      "outputs": [
        {
          "output_type": "stream",
          "name": "stdout",
          "text": [
            "Epoch: 0 Loss Discriminator: 0.25858017802238464\n",
            "Epoch: 0 Loss Generator: 1.497191309928894\n",
            "Epoch: 10 Loss Discriminator: 0.04413221776485443\n",
            "Epoch: 10 Loss Generator: 3.9862945079803467\n",
            "Epoch: 20 Loss Discriminator: 0.014221412129700184\n",
            "Epoch: 20 Loss Generator: 8.086114883422852\n",
            "Epoch: 30 Loss Discriminator: 0.29317712783813477\n",
            "Epoch: 30 Loss Generator: 9.695476531982422\n",
            "Epoch: 40 Loss Discriminator: 0.0496462844312191\n",
            "Epoch: 40 Loss Generator: 16.322843551635742\n",
            "Epoch: 50 Loss Discriminator: 0.5949649810791016\n",
            "Epoch: 50 Loss Generator: 8.399953842163086\n",
            "Epoch: 60 Loss Discriminator: 0.07722506672143936\n",
            "Epoch: 60 Loss Generator: 4.273936748504639\n",
            "Epoch: 70 Loss Discriminator: 0.08833394944667816\n",
            "Epoch: 70 Loss Generator: 5.147493362426758\n",
            "Epoch: 80 Loss Discriminator: 0.07746483385562897\n",
            "Epoch: 80 Loss Generator: 5.087387561798096\n",
            "Epoch: 90 Loss Discriminator: 0.03447066992521286\n",
            "Epoch: 90 Loss Generator: 6.5717902183532715\n",
            "Epoch: 100 Loss Discriminator: 0.0647401288151741\n",
            "Epoch: 100 Loss Generator: 8.83546257019043\n",
            "Epoch: 110 Loss Discriminator: 0.01943865418434143\n",
            "Epoch: 110 Loss Generator: 7.466271877288818\n",
            "Epoch: 120 Loss Discriminator: 0.02115131914615631\n",
            "Epoch: 120 Loss Generator: 11.068312644958496\n",
            "Epoch: 130 Loss Discriminator: 0.07143750041723251\n",
            "Epoch: 130 Loss Generator: 9.904385566711426\n",
            "Epoch: 140 Loss Discriminator: 0.07874901592731476\n",
            "Epoch: 140 Loss Generator: 6.322653770446777\n",
            "Epoch: 150 Loss Discriminator: 0.11279570311307907\n",
            "Epoch: 150 Loss Generator: 4.941299915313721\n",
            "Epoch: 160 Loss Discriminator: 0.3020024001598358\n",
            "Epoch: 160 Loss Generator: 2.767667055130005\n",
            "Epoch: 170 Loss Discriminator: 0.3995434045791626\n",
            "Epoch: 170 Loss Generator: 2.3411905765533447\n",
            "Epoch: 180 Loss Discriminator: 0.38377922773361206\n",
            "Epoch: 180 Loss Generator: 1.8337942361831665\n",
            "Epoch: 190 Loss Discriminator: 0.38023972511291504\n",
            "Epoch: 190 Loss Generator: 1.8048988580703735\n",
            "Epoch: 200 Loss Discriminator: 0.5544145703315735\n",
            "Epoch: 200 Loss Generator: 1.4045851230621338\n",
            "Epoch: 210 Loss Discriminator: 0.510306179523468\n",
            "Epoch: 210 Loss Generator: 1.2021580934524536\n",
            "Epoch: 220 Loss Discriminator: 0.5762850046157837\n",
            "Epoch: 220 Loss Generator: 1.1154303550720215\n",
            "Epoch: 230 Loss Discriminator: 0.5550991892814636\n",
            "Epoch: 230 Loss Generator: 1.0731121301651\n",
            "Epoch: 240 Loss Discriminator: 0.6088775992393494\n",
            "Epoch: 240 Loss Generator: 0.9624748229980469\n",
            "Epoch: 250 Loss Discriminator: 0.5623630285263062\n",
            "Epoch: 250 Loss Generator: 1.178894281387329\n",
            "Epoch: 260 Loss Discriminator: 0.6353853940963745\n",
            "Epoch: 260 Loss Generator: 0.9823037981987\n",
            "Epoch: 270 Loss Discriminator: 0.6287353038787842\n",
            "Epoch: 270 Loss Generator: 0.9902589917182922\n",
            "Epoch: 280 Loss Discriminator: 0.6088207364082336\n",
            "Epoch: 280 Loss Generator: 1.0427838563919067\n",
            "Epoch: 290 Loss Discriminator: 0.5920343995094299\n",
            "Epoch: 290 Loss Generator: 0.9559329152107239\n",
            "Epoch: 300 Loss Discriminator: 0.5572004914283752\n",
            "Epoch: 300 Loss Generator: 1.0713540315628052\n",
            "Epoch: 310 Loss Discriminator: 0.6417679190635681\n",
            "Epoch: 310 Loss Generator: 0.9082069396972656\n",
            "Epoch: 320 Loss Discriminator: 0.5926635265350342\n",
            "Epoch: 320 Loss Generator: 0.9598913788795471\n",
            "Epoch: 330 Loss Discriminator: 0.6424211859703064\n",
            "Epoch: 330 Loss Generator: 0.9655104279518127\n",
            "Epoch: 340 Loss Discriminator: 0.5993484258651733\n",
            "Epoch: 340 Loss Generator: 1.0033764839172363\n",
            "Epoch: 350 Loss Discriminator: 0.5982081890106201\n",
            "Epoch: 350 Loss Generator: 1.0126010179519653\n",
            "Epoch: 360 Loss Discriminator: 0.5778578519821167\n",
            "Epoch: 360 Loss Generator: 0.9813158512115479\n",
            "Epoch: 370 Loss Discriminator: 0.56428462266922\n",
            "Epoch: 370 Loss Generator: 1.0468395948410034\n",
            "Epoch: 380 Loss Discriminator: 0.5874868631362915\n",
            "Epoch: 380 Loss Generator: 1.068452000617981\n",
            "Epoch: 390 Loss Discriminator: 0.6504193544387817\n",
            "Epoch: 390 Loss Generator: 1.0006351470947266\n",
            "Epoch: 400 Loss Discriminator: 0.5926008820533752\n",
            "Epoch: 400 Loss Generator: 0.976115882396698\n",
            "Epoch: 410 Loss Discriminator: 0.5986555814743042\n",
            "Epoch: 410 Loss Generator: 1.0304112434387207\n",
            "Epoch: 420 Loss Discriminator: 0.5883291959762573\n",
            "Epoch: 420 Loss Generator: 1.0779688358306885\n",
            "Epoch: 430 Loss Discriminator: 0.5798444747924805\n",
            "Epoch: 430 Loss Generator: 1.026806354522705\n",
            "Epoch: 440 Loss Discriminator: 0.6173245310783386\n",
            "Epoch: 440 Loss Generator: 0.8763983249664307\n",
            "Epoch: 450 Loss Discriminator: 0.6228164434432983\n",
            "Epoch: 450 Loss Generator: 0.9874341487884521\n",
            "Epoch: 460 Loss Discriminator: 0.624829888343811\n",
            "Epoch: 460 Loss Generator: 0.9150550365447998\n",
            "Epoch: 470 Loss Discriminator: 0.5984315276145935\n",
            "Epoch: 470 Loss Generator: 0.9931612610816956\n",
            "Epoch: 480 Loss Discriminator: 0.6019763350486755\n",
            "Epoch: 480 Loss Generator: 0.9682247638702393\n",
            "Epoch: 490 Loss Discriminator: 0.5838872790336609\n",
            "Epoch: 490 Loss Generator: 1.0442395210266113\n",
            "Epoch: 500 Loss Discriminator: 0.6011462211608887\n",
            "Epoch: 500 Loss Generator: 0.9545639753341675\n",
            "Epoch: 510 Loss Discriminator: 0.6376765966415405\n",
            "Epoch: 510 Loss Generator: 0.9463790655136108\n",
            "Epoch: 520 Loss Discriminator: 0.6079932451248169\n",
            "Epoch: 520 Loss Generator: 0.8934332728385925\n",
            "Epoch: 530 Loss Discriminator: 0.5521535277366638\n",
            "Epoch: 530 Loss Generator: 1.2135897874832153\n",
            "Epoch: 540 Loss Discriminator: 0.6155175566673279\n",
            "Epoch: 540 Loss Generator: 0.8842973709106445\n",
            "Epoch: 550 Loss Discriminator: 0.6448690295219421\n",
            "Epoch: 550 Loss Generator: 1.0131738185882568\n",
            "Epoch: 560 Loss Discriminator: 0.5541219115257263\n",
            "Epoch: 560 Loss Generator: 1.046911597251892\n",
            "Epoch: 570 Loss Discriminator: 0.6287601590156555\n",
            "Epoch: 570 Loss Generator: 0.8935099244117737\n",
            "Epoch: 580 Loss Discriminator: 0.5744603276252747\n",
            "Epoch: 580 Loss Generator: 0.964084804058075\n",
            "Epoch: 590 Loss Discriminator: 0.566585123538971\n",
            "Epoch: 590 Loss Generator: 1.0177594423294067\n",
            "Epoch: 600 Loss Discriminator: 0.6002963185310364\n",
            "Epoch: 600 Loss Generator: 1.0699442625045776\n",
            "Epoch: 610 Loss Discriminator: 0.6004040837287903\n",
            "Epoch: 610 Loss Generator: 0.9117266535758972\n",
            "Epoch: 620 Loss Discriminator: 0.5831819176673889\n",
            "Epoch: 620 Loss Generator: 1.1236997842788696\n",
            "Epoch: 630 Loss Discriminator: 0.6115030646324158\n",
            "Epoch: 630 Loss Generator: 0.9271971583366394\n",
            "Epoch: 640 Loss Discriminator: 0.6353336572647095\n",
            "Epoch: 640 Loss Generator: 0.9322977066040039\n",
            "Epoch: 650 Loss Discriminator: 0.5882135033607483\n",
            "Epoch: 650 Loss Generator: 0.8844754099845886\n",
            "Epoch: 660 Loss Discriminator: 0.6389788389205933\n",
            "Epoch: 660 Loss Generator: 0.9283549189567566\n",
            "Epoch: 670 Loss Discriminator: 0.6161497831344604\n",
            "Epoch: 670 Loss Generator: 0.96159428358078\n",
            "Epoch: 680 Loss Discriminator: 0.6042718887329102\n",
            "Epoch: 680 Loss Generator: 0.9946272373199463\n",
            "Epoch: 690 Loss Discriminator: 0.6111152172088623\n",
            "Epoch: 690 Loss Generator: 0.948004961013794\n",
            "Epoch: 700 Loss Discriminator: 0.6491414904594421\n",
            "Epoch: 700 Loss Generator: 0.9628045558929443\n",
            "Epoch: 710 Loss Discriminator: 0.5886912941932678\n",
            "Epoch: 710 Loss Generator: 0.9705697298049927\n",
            "Epoch: 720 Loss Discriminator: 0.6162068843841553\n",
            "Epoch: 720 Loss Generator: 0.9722065329551697\n",
            "Epoch: 730 Loss Discriminator: 0.6142547726631165\n",
            "Epoch: 730 Loss Generator: 1.015723466873169\n",
            "Epoch: 740 Loss Discriminator: 0.5952886343002319\n",
            "Epoch: 740 Loss Generator: 0.9845251441001892\n",
            "Epoch: 750 Loss Discriminator: 0.61860591173172\n",
            "Epoch: 750 Loss Generator: 0.9367612600326538\n",
            "Epoch: 760 Loss Discriminator: 0.5947644710540771\n",
            "Epoch: 760 Loss Generator: 1.0106228590011597\n",
            "Epoch: 770 Loss Discriminator: 0.6085389256477356\n",
            "Epoch: 770 Loss Generator: 0.9779137969017029\n",
            "Epoch: 780 Loss Discriminator: 0.5915158987045288\n",
            "Epoch: 780 Loss Generator: 0.9915869235992432\n",
            "Epoch: 790 Loss Discriminator: 0.5933571457862854\n",
            "Epoch: 790 Loss Generator: 1.0220510959625244\n"
          ]
        }
      ]
    },
    {
      "cell_type": "code",
      "source": [
        "plt.ylabel('MSE')\n",
        "bp = plt.boxplot([data1, data2])\n",
        "plt.xticks([1, 2], ['Generated', 'Original'])\n",
        "plt.show()"
      ],
      "metadata": {
        "colab": {
          "base_uri": "https://localhost:8080/",
          "height": 265
        },
        "id": "SdYFk6OyOptO",
        "outputId": "aa942c5e-d80e-44c5-e958-6b3fd4be7274"
      },
      "execution_count": null,
      "outputs": [
        {
          "output_type": "display_data",
          "data": {
            "text/plain": [
              "<Figure size 432x288 with 1 Axes>"
            ],
            "image/png": "[encoded data removed]"
          },
          "metadata": {
            "needs_background": "light"
          }
        }
      ]
    },
    {
      "cell_type": "code",
      "source": [
        "data1.mean() # 89.68703248449066"
      ],
      "metadata": {
        "colab": {
          "base_uri": "https://localhost:8080/"
        },
        "id": "xxFlN9tFOsGu",
        "outputId": "5063608a-691e-45cc-dbe6-0fe5b723152e"
      },
      "execution_count": null,
      "outputs": [
        {
          "output_type": "execute_result",
          "data": {
            "text/plain": [
              "89.5649358316043"
            ]
          },
          "metadata": {},
          "execution_count": 22
        }
      ]
    },
    {
      "cell_type": "code",
      "source": [
        "data2.mean()"
      ],
      "metadata": {
        "colab": {
          "base_uri": "https://localhost:8080/"
        },
        "id": "aBO_YnDGXb7n",
        "outputId": "66dd8163-b624-4cfa-f756-976bf7bba167"
      },
      "execution_count": null,
      "outputs": [
        {
          "output_type": "execute_result",
          "data": {
            "text/plain": [
              "90.03006034615385"
            ]
          },
          "metadata": {},
          "execution_count": 24
        }
      ]
    },
    {
      "cell_type": "markdown",
      "source": [
        "# Breast cancer"
      ],
      "metadata": {
        "id": "K5-KyYNzfJ7u"
      }
    },
    {
      "cell_type": "code",
      "execution_count": null,
      "metadata": {
        "id": "HaldQPBcinb7"
      },
      "outputs": [],
      "source": [
        "url = 'https://raw.githubusercontent.com/JkbRnc/Data_Generators/main/datasets/breast_cancer.csv'\n",
        "bc =  pd.read_csv(url, sep=',')"
      ]
    },
    {
      "cell_type": "code",
      "source": [
        "bc.info()"
      ],
      "metadata": {
        "colab": {
          "base_uri": "https://localhost:8080/"
        },
        "id": "gQCf72wVfOrD",
        "outputId": "20abed8a-94d1-4b6e-ee42-185922fb62d0"
      },
      "execution_count": null,
      "outputs": [
        {
          "output_type": "stream",
          "name": "stdout",
          "text": [
            "<class 'pandas.core.frame.DataFrame'>\n",
            "RangeIndex: 116 entries, 0 to 115\n",
            "Data columns (total 10 columns):\n",
            " #   Column          Non-Null Count  Dtype  \n",
            "---  ------          --------------  -----  \n",
            " 0   Age             116 non-null    int64  \n",
            " 1   BMI             116 non-null    float64\n",
            " 2   Glucose         116 non-null    int64  \n",
            " 3   Insulin         116 non-null    float64\n",
            " 4   HOMA            116 non-null    float64\n",
            " 5   Leptin          116 non-null    float64\n",
            " 6   Adiponectin     116 non-null    float64\n",
            " 7   Resistin        116 non-null    float64\n",
            " 8   MCP.1           116 non-null    float64\n",
            " 9   Classification  116 non-null    int64  \n",
            "dtypes: float64(7), int64(3)\n",
            "memory usage: 9.2 KB\n"
          ]
        }
      ]
    },
    {
      "cell_type": "code",
      "source": [
        "bc_gan = GAN(g_params =[512], d_params=[512], num_epochs = 600)"
      ],
      "metadata": {
        "id": "xL3VFYB2fPch"
      },
      "execution_count": null,
      "outputs": []
    },
    {
      "cell_type": "code",
      "source": [
        "bc_gan.fit(bc, ['Classification'])"
      ],
      "metadata": {
        "colab": {
          "base_uri": "https://localhost:8080/"
        },
        "id": "7DOgRLNDfRDz",
        "outputId": "71282ff7-463c-4538-f2ef-c4ed133b7046"
      },
      "execution_count": null,
      "outputs": [
        {
          "output_type": "stream",
          "name": "stdout",
          "text": [
            "Epoch: 0 Loss Discriminator: 0.6250274181365967\n",
            "Epoch: 0 Loss Generator: 0.6446827054023743\n",
            "Epoch: 10 Loss Discriminator: 0.250393271446228\n",
            "Epoch: 10 Loss Generator: 2.149646520614624\n",
            "Epoch: 20 Loss Discriminator: 0.16340306401252747\n",
            "Epoch: 20 Loss Generator: 3.3444130420684814\n",
            "Epoch: 30 Loss Discriminator: 0.1506427824497223\n",
            "Epoch: 30 Loss Generator: 3.519282817840576\n",
            "Epoch: 40 Loss Discriminator: 0.32650840282440186\n",
            "Epoch: 40 Loss Generator: 3.074702739715576\n",
            "Epoch: 50 Loss Discriminator: 0.5232239365577698\n",
            "Epoch: 50 Loss Generator: 2.1324269771575928\n",
            "Epoch: 60 Loss Discriminator: 0.5772165060043335\n",
            "Epoch: 60 Loss Generator: 2.0543735027313232\n",
            "Epoch: 70 Loss Discriminator: 0.5335447192192078\n",
            "Epoch: 70 Loss Generator: 1.5175127983093262\n",
            "Epoch: 80 Loss Discriminator: 0.604037344455719\n",
            "Epoch: 80 Loss Generator: 1.1359189748764038\n",
            "Epoch: 90 Loss Discriminator: 0.7071108222007751\n",
            "Epoch: 90 Loss Generator: 0.9536236524581909\n",
            "Epoch: 100 Loss Discriminator: 0.6194628477096558\n",
            "Epoch: 100 Loss Generator: 1.0218095779418945\n",
            "Epoch: 110 Loss Discriminator: 0.5539889335632324\n",
            "Epoch: 110 Loss Generator: 1.0248260498046875\n",
            "Epoch: 120 Loss Discriminator: 0.5330297946929932\n",
            "Epoch: 120 Loss Generator: 1.2535256147384644\n",
            "Epoch: 130 Loss Discriminator: 0.5677173733711243\n",
            "Epoch: 130 Loss Generator: 1.0600913763046265\n",
            "Epoch: 140 Loss Discriminator: 0.4514105021953583\n",
            "Epoch: 140 Loss Generator: 1.133210301399231\n",
            "Epoch: 150 Loss Discriminator: 0.48641178011894226\n",
            "Epoch: 150 Loss Generator: 1.1607478857040405\n",
            "Epoch: 160 Loss Discriminator: 0.5959656238555908\n",
            "Epoch: 160 Loss Generator: 1.0696532726287842\n",
            "Epoch: 170 Loss Discriminator: 0.6502906680107117\n",
            "Epoch: 170 Loss Generator: 0.9176726341247559\n",
            "Epoch: 180 Loss Discriminator: 0.4960451126098633\n",
            "Epoch: 180 Loss Generator: 1.1730363368988037\n",
            "Epoch: 190 Loss Discriminator: 0.47869235277175903\n",
            "Epoch: 190 Loss Generator: 1.2227479219436646\n",
            "Epoch: 200 Loss Discriminator: 0.5443009734153748\n",
            "Epoch: 200 Loss Generator: 1.118628978729248\n",
            "Epoch: 210 Loss Discriminator: 0.5902283787727356\n",
            "Epoch: 210 Loss Generator: 1.0214622020721436\n",
            "Epoch: 220 Loss Discriminator: 0.5775089859962463\n",
            "Epoch: 220 Loss Generator: 1.0363504886627197\n",
            "Epoch: 230 Loss Discriminator: 0.5623827576637268\n",
            "Epoch: 230 Loss Generator: 0.97242671251297\n",
            "Epoch: 240 Loss Discriminator: 0.5963351130485535\n",
            "Epoch: 240 Loss Generator: 0.9969048500061035\n",
            "Epoch: 250 Loss Discriminator: 0.6142252087593079\n",
            "Epoch: 250 Loss Generator: 0.9622544646263123\n",
            "Epoch: 260 Loss Discriminator: 0.5839008688926697\n",
            "Epoch: 260 Loss Generator: 1.024878740310669\n",
            "Epoch: 270 Loss Discriminator: 0.6124385595321655\n",
            "Epoch: 270 Loss Generator: 0.9765060544013977\n",
            "Epoch: 280 Loss Discriminator: 0.5561018586158752\n",
            "Epoch: 280 Loss Generator: 0.994708776473999\n",
            "Epoch: 290 Loss Discriminator: 0.6142770051956177\n",
            "Epoch: 290 Loss Generator: 0.9494069814682007\n",
            "Epoch: 300 Loss Discriminator: 0.5937469601631165\n",
            "Epoch: 300 Loss Generator: 1.000699758529663\n",
            "Epoch: 310 Loss Discriminator: 0.5733347535133362\n",
            "Epoch: 310 Loss Generator: 1.0005663633346558\n",
            "Epoch: 320 Loss Discriminator: 0.5661008358001709\n",
            "Epoch: 320 Loss Generator: 1.0604658126831055\n",
            "Epoch: 330 Loss Discriminator: 0.5875690579414368\n",
            "Epoch: 330 Loss Generator: 1.089911937713623\n",
            "Epoch: 340 Loss Discriminator: 0.5898380279541016\n",
            "Epoch: 340 Loss Generator: 0.9787812829017639\n",
            "Epoch: 350 Loss Discriminator: 0.630663275718689\n",
            "Epoch: 350 Loss Generator: 0.9579317569732666\n",
            "Epoch: 360 Loss Discriminator: 0.5878311395645142\n",
            "Epoch: 360 Loss Generator: 1.018307089805603\n",
            "Epoch: 370 Loss Discriminator: 0.5352687239646912\n",
            "Epoch: 370 Loss Generator: 1.0608532428741455\n",
            "Epoch: 380 Loss Discriminator: 0.6197161078453064\n",
            "Epoch: 380 Loss Generator: 0.9918644428253174\n",
            "Epoch: 390 Loss Discriminator: 0.5841946005821228\n",
            "Epoch: 390 Loss Generator: 1.0302059650421143\n",
            "Epoch: 400 Loss Discriminator: 0.586871325969696\n",
            "Epoch: 400 Loss Generator: 1.1122983694076538\n",
            "Epoch: 410 Loss Discriminator: 0.5563597679138184\n",
            "Epoch: 410 Loss Generator: 0.9538121819496155\n",
            "Epoch: 420 Loss Discriminator: 0.5517793893814087\n",
            "Epoch: 420 Loss Generator: 0.9984588027000427\n",
            "Epoch: 430 Loss Discriminator: 0.5797296166419983\n",
            "Epoch: 430 Loss Generator: 1.1648516654968262\n",
            "Epoch: 440 Loss Discriminator: 0.5613014101982117\n",
            "Epoch: 440 Loss Generator: 1.0933027267456055\n",
            "Epoch: 450 Loss Discriminator: 0.5867982506752014\n",
            "Epoch: 450 Loss Generator: 1.0765182971954346\n",
            "Epoch: 460 Loss Discriminator: 0.5801740884780884\n",
            "Epoch: 460 Loss Generator: 0.9631979465484619\n",
            "Epoch: 470 Loss Discriminator: 0.4764842391014099\n",
            "Epoch: 470 Loss Generator: 1.0923380851745605\n",
            "Epoch: 480 Loss Discriminator: 0.4868434965610504\n",
            "Epoch: 480 Loss Generator: 1.0586128234863281\n",
            "Epoch: 490 Loss Discriminator: 0.538673996925354\n",
            "Epoch: 490 Loss Generator: 1.2105839252471924\n",
            "Epoch: 500 Loss Discriminator: 0.5566356182098389\n",
            "Epoch: 500 Loss Generator: 1.1989390850067139\n",
            "Epoch: 510 Loss Discriminator: 0.5574601292610168\n",
            "Epoch: 510 Loss Generator: 1.211961269378662\n",
            "Epoch: 520 Loss Discriminator: 0.549389123916626\n",
            "Epoch: 520 Loss Generator: 1.172412395477295\n",
            "Epoch: 530 Loss Discriminator: 0.5755415558815002\n",
            "Epoch: 530 Loss Generator: 1.3587435483932495\n",
            "Epoch: 540 Loss Discriminator: 0.5304237008094788\n",
            "Epoch: 540 Loss Generator: 1.100673794746399\n",
            "Epoch: 550 Loss Discriminator: 0.4679449796676636\n",
            "Epoch: 550 Loss Generator: 1.2816364765167236\n",
            "Epoch: 560 Loss Discriminator: 0.4727371037006378\n",
            "Epoch: 560 Loss Generator: 1.173874855041504\n",
            "Epoch: 570 Loss Discriminator: 0.5254198908805847\n",
            "Epoch: 570 Loss Generator: 1.2287023067474365\n",
            "Epoch: 580 Loss Discriminator: 0.4606465995311737\n",
            "Epoch: 580 Loss Generator: 1.269690990447998\n",
            "Epoch: 590 Loss Discriminator: 0.47337308526039124\n",
            "Epoch: 590 Loss Generator: 1.136313557624817\n"
          ]
        }
      ]
    },
    {
      "cell_type": "code",
      "source": [
        "samples = bc_gan.sample(10000)\n",
        "df_bc = pd.DataFrame(samples)"
      ],
      "metadata": {
        "id": "7XlK-BpXfVQ_"
      },
      "execution_count": null,
      "outputs": []
    },
    {
      "cell_type": "code",
      "source": [
        "sn.heatmap(df_bc.corr(), annot=True)"
      ],
      "metadata": {
        "colab": {
          "base_uri": "https://localhost:8080/",
          "height": 286
        },
        "id": "Nvx5NSxbffRL",
        "outputId": "d983e74c-81f1-40c3-ce9f-8e19a9112c29"
      },
      "execution_count": null,
      "outputs": [
        {
          "output_type": "execute_result",
          "data": {
            "text/plain": [
              "<matplotlib.axes._subplots.AxesSubplot at 0x7f9365e9b250>"
            ]
          },
          "metadata": {},
          "execution_count": 11
        },
        {
          "output_type": "display_data",
          "data": {
            "text/plain": [
              "<Figure size 432x288 with 2 Axes>"
            ],
            "image/png": "[encoded data removed]"
          },
          "metadata": {
            "needs_background": "light"
          }
        }
      ]
    },
    {
      "cell_type": "code",
      "source": [
        "d = bc\n",
        "d = d.rename(columns={x:y for x,y in zip(d.columns,range(0,len(d.columns)))})\n",
        "sn.heatmap(d.corr(), annot=True)"
      ],
      "metadata": {
        "id": "fm30xRRufj1V",
        "colab": {
          "base_uri": "https://localhost:8080/",
          "height": 286
        },
        "outputId": "f6dda9ba-bccd-4b29-ac9b-084426e146e8"
      },
      "execution_count": null,
      "outputs": [
        {
          "output_type": "execute_result",
          "data": {
            "text/plain": [
              "<matplotlib.axes._subplots.AxesSubplot at 0x7f936125d810>"
            ]
          },
          "metadata": {},
          "execution_count": 13
        },
        {
          "output_type": "display_data",
          "data": {
            "text/plain": [
              "<Figure size 432x288 with 2 Axes>"
            ],
            "image/png": "[encoded data removed]"
          },
          "metadata": {
            "needs_background": "light"
          }
        }
      ]
    },
    {
      "cell_type": "code",
      "source": [
        "distance(bc.corr(), df_bc.corr())"
      ],
      "metadata": {
        "colab": {
          "base_uri": "https://localhost:8080/"
        },
        "id": "7Cl56fvGZ0xn",
        "outputId": "fc0fe80a-2a77-40c1-dd55-567372844134"
      },
      "execution_count": null,
      "outputs": [
        {
          "output_type": "execute_result",
          "data": {
            "text/plain": [
              "0.008242666299451425"
            ]
          },
          "metadata": {},
          "execution_count": 14
        }
      ]
    },
    {
      "cell_type": "code",
      "source": [
        "model=GAN(g_params=[512], d_params=[512], num_epochs=500)\n",
        "data1, data2 = create_statistics(bc, 'Classification', model, ['Classification'],classification=True)"
      ],
      "metadata": {
        "colab": {
          "base_uri": "https://localhost:8080/"
        },
        "id": "DF0lZKNKrsVO",
        "outputId": "2becff0d-065b-4c64-e766-4d05f9c66c85"
      },
      "execution_count": null,
      "outputs": [
        {
          "output_type": "stream",
          "name": "stdout",
          "text": [
            "Epoch: 0 Loss Discriminator: 0.6014359593391418\n",
            "Epoch: 0 Loss Generator: 0.7250152230262756\n",
            "Epoch: 10 Loss Discriminator: 0.2813476324081421\n",
            "Epoch: 10 Loss Generator: 1.6411058902740479\n",
            "Epoch: 20 Loss Discriminator: 0.28340309858322144\n",
            "Epoch: 20 Loss Generator: 2.9169042110443115\n",
            "Epoch: 30 Loss Discriminator: 0.245624840259552\n",
            "Epoch: 30 Loss Generator: 2.5229978561401367\n",
            "Epoch: 40 Loss Discriminator: 0.8771358132362366\n",
            "Epoch: 40 Loss Generator: 1.4029227495193481\n",
            "Epoch: 50 Loss Discriminator: 0.4049694240093231\n",
            "Epoch: 50 Loss Generator: 2.369656801223755\n",
            "Epoch: 60 Loss Discriminator: 0.34916016459465027\n",
            "Epoch: 60 Loss Generator: 2.275646686553955\n",
            "Epoch: 70 Loss Discriminator: 0.3690374195575714\n",
            "Epoch: 70 Loss Generator: 2.011479616165161\n",
            "Epoch: 80 Loss Discriminator: 0.3873511254787445\n",
            "Epoch: 80 Loss Generator: 1.8140718936920166\n",
            "Epoch: 90 Loss Discriminator: 0.4701344072818756\n",
            "Epoch: 90 Loss Generator: 1.5479118824005127\n",
            "Epoch: 100 Loss Discriminator: 0.668526291847229\n",
            "Epoch: 100 Loss Generator: 0.9407023191452026\n",
            "Epoch: 110 Loss Discriminator: 0.5365974307060242\n",
            "Epoch: 110 Loss Generator: 1.1874760389328003\n",
            "Epoch: 120 Loss Discriminator: 0.4868704676628113\n",
            "Epoch: 120 Loss Generator: 1.4193103313446045\n",
            "Epoch: 130 Loss Discriminator: 0.6702497005462646\n",
            "Epoch: 130 Loss Generator: 0.9369163513183594\n",
            "Epoch: 140 Loss Discriminator: 0.5210111141204834\n",
            "Epoch: 140 Loss Generator: 1.1627389192581177\n",
            "Epoch: 150 Loss Discriminator: 0.5657257437705994\n",
            "Epoch: 150 Loss Generator: 1.0456494092941284\n",
            "Epoch: 160 Loss Discriminator: 0.45080801844596863\n",
            "Epoch: 160 Loss Generator: 1.133928894996643\n",
            "Epoch: 170 Loss Discriminator: 0.6323703527450562\n",
            "Epoch: 170 Loss Generator: 1.000106930732727\n",
            "Epoch: 180 Loss Discriminator: 0.5851153135299683\n",
            "Epoch: 180 Loss Generator: 0.9933914542198181\n",
            "Epoch: 190 Loss Discriminator: 0.6562361121177673\n",
            "Epoch: 190 Loss Generator: 0.9146926999092102\n",
            "Epoch: 200 Loss Discriminator: 0.5229765176773071\n",
            "Epoch: 200 Loss Generator: 1.196718454360962\n",
            "Epoch: 210 Loss Discriminator: 0.4537046551704407\n",
            "Epoch: 210 Loss Generator: 1.4592210054397583\n",
            "Epoch: 220 Loss Discriminator: 0.5873143672943115\n",
            "Epoch: 220 Loss Generator: 0.934348464012146\n",
            "Epoch: 230 Loss Discriminator: 0.5348272919654846\n",
            "Epoch: 230 Loss Generator: 0.9900893568992615\n",
            "Epoch: 240 Loss Discriminator: 0.5438138842582703\n",
            "Epoch: 240 Loss Generator: 1.0193017721176147\n",
            "Epoch: 250 Loss Discriminator: 0.5545921325683594\n",
            "Epoch: 250 Loss Generator: 1.0248301029205322\n",
            "Epoch: 260 Loss Discriminator: 0.5802459716796875\n",
            "Epoch: 260 Loss Generator: 1.0039851665496826\n",
            "Epoch: 270 Loss Discriminator: 0.6377454400062561\n",
            "Epoch: 270 Loss Generator: 1.0081124305725098\n",
            "Epoch: 280 Loss Discriminator: 0.613649845123291\n",
            "Epoch: 280 Loss Generator: 1.0220340490341187\n",
            "Epoch: 290 Loss Discriminator: 0.6131215691566467\n",
            "Epoch: 290 Loss Generator: 1.1405870914459229\n",
            "Epoch: 300 Loss Discriminator: 0.5351196527481079\n",
            "Epoch: 300 Loss Generator: 1.015641212463379\n",
            "Epoch: 310 Loss Discriminator: 0.6200379729270935\n",
            "Epoch: 310 Loss Generator: 1.044912576675415\n",
            "Epoch: 320 Loss Discriminator: 0.6293430924415588\n",
            "Epoch: 320 Loss Generator: 1.0950841903686523\n",
            "Epoch: 330 Loss Discriminator: 0.5499874949455261\n",
            "Epoch: 330 Loss Generator: 1.071064829826355\n",
            "Epoch: 340 Loss Discriminator: 0.5504025816917419\n",
            "Epoch: 340 Loss Generator: 1.1051493883132935\n",
            "Epoch: 350 Loss Discriminator: 0.604854166507721\n",
            "Epoch: 350 Loss Generator: 0.9666861891746521\n",
            "Epoch: 360 Loss Discriminator: 0.5870233774185181\n",
            "Epoch: 360 Loss Generator: 0.8779037594795227\n",
            "Epoch: 370 Loss Discriminator: 0.5581954717636108\n",
            "Epoch: 370 Loss Generator: 1.071250081062317\n",
            "Epoch: 380 Loss Discriminator: 0.6008743643760681\n",
            "Epoch: 380 Loss Generator: 1.0221666097640991\n",
            "Epoch: 390 Loss Discriminator: 0.599139392375946\n",
            "Epoch: 390 Loss Generator: 1.0099067687988281\n",
            "Epoch: 400 Loss Discriminator: 0.5905655026435852\n",
            "Epoch: 400 Loss Generator: 1.004257082939148\n",
            "Epoch: 410 Loss Discriminator: 0.6119629144668579\n",
            "Epoch: 410 Loss Generator: 1.1330922842025757\n",
            "Epoch: 420 Loss Discriminator: 0.5893001556396484\n",
            "Epoch: 420 Loss Generator: 0.9747849702835083\n",
            "Epoch: 430 Loss Discriminator: 0.5559635758399963\n",
            "Epoch: 430 Loss Generator: 1.0154668092727661\n",
            "Epoch: 440 Loss Discriminator: 0.5920924544334412\n",
            "Epoch: 440 Loss Generator: 0.994270384311676\n",
            "Epoch: 450 Loss Discriminator: 0.5886537432670593\n",
            "Epoch: 450 Loss Generator: 0.9514249563217163\n",
            "Epoch: 460 Loss Discriminator: 0.5612874627113342\n",
            "Epoch: 460 Loss Generator: 1.0642938613891602\n",
            "Epoch: 470 Loss Discriminator: 0.5907558798789978\n",
            "Epoch: 470 Loss Generator: 1.0326634645462036\n",
            "Epoch: 480 Loss Discriminator: 0.6071295142173767\n",
            "Epoch: 480 Loss Generator: 1.0733906030654907\n",
            "Epoch: 490 Loss Discriminator: 0.582904040813446\n",
            "Epoch: 490 Loss Generator: 1.0863258838653564\n"
          ]
        }
      ]
    },
    {
      "cell_type": "code",
      "source": [
        "plt.ylabel('Accuracy')\n",
        "bp = plt.boxplot([data1, data2])\n",
        "plt.xticks([1, 2], ['Generated', 'Original'])\n",
        "plt.show()"
      ],
      "metadata": {
        "colab": {
          "base_uri": "https://localhost:8080/",
          "height": 265
        },
        "id": "xHfNmCP1sLP9",
        "outputId": "354949fa-5c63-464c-d651-c1776a5c2001"
      },
      "execution_count": null,
      "outputs": [
        {
          "output_type": "display_data",
          "data": {
            "text/plain": [
              "<Figure size 432x288 with 1 Axes>"
            ],
            "image/png": "[encoded data removed]"
          },
          "metadata": {
            "needs_background": "light"
          }
        }
      ]
    },
    {
      "cell_type": "code",
      "source": [
        "data1.mean()"
      ],
      "metadata": {
        "colab": {
          "base_uri": "https://localhost:8080/"
        },
        "id": "L-Den4M-sNQF",
        "outputId": "0d7abe8c-f7f7-4f96-b9b8-fa49eda21355"
      },
      "execution_count": null,
      "outputs": [
        {
          "output_type": "execute_result",
          "data": {
            "text/plain": [
              "0.8158620689655172"
            ]
          },
          "metadata": {},
          "execution_count": 26
        }
      ]
    },
    {
      "cell_type": "code",
      "source": [
        "data2.mean()"
      ],
      "metadata": {
        "colab": {
          "base_uri": "https://localhost:8080/"
        },
        "id": "ixNlANfWuUXU",
        "outputId": "e69ecd8f-0c0b-43d3-c261-a6209c7ec95c"
      },
      "execution_count": null,
      "outputs": [
        {
          "output_type": "execute_result",
          "data": {
            "text/plain": [
              "0.7182758620689655"
            ]
          },
          "metadata": {},
          "execution_count": 27
        }
      ]
    },
    {
      "cell_type": "code",
      "source": [
        "model=GAN(g_params=[512], d_params=[512], num_epochs=500)\n",
        "data1, data2 = create_statistics(bc, 'Classification', model, ['Classification'],classification=True, method='knn')"
      ],
      "metadata": {
        "id": "hdMdQErt72FR",
        "colab": {
          "base_uri": "https://localhost:8080/"
        },
        "outputId": "4674e6b6-bb36-4afa-acc7-39622606b687"
      },
      "execution_count": null,
      "outputs": [
        {
          "output_type": "stream",
          "name": "stdout",
          "text": [
            "Epoch: 0 Loss Discriminator: 0.5892760157585144\n",
            "Epoch: 0 Loss Generator: 0.6967378258705139\n",
            "Epoch: 10 Loss Discriminator: 0.29172250628471375\n",
            "Epoch: 10 Loss Generator: 1.6070551872253418\n",
            "Epoch: 20 Loss Discriminator: 0.4488767683506012\n",
            "Epoch: 20 Loss Generator: 2.1009280681610107\n",
            "Epoch: 30 Loss Discriminator: 0.3475450873374939\n",
            "Epoch: 30 Loss Generator: 2.220881462097168\n",
            "Epoch: 40 Loss Discriminator: 0.42956262826919556\n",
            "Epoch: 40 Loss Generator: 2.811591625213623\n",
            "Epoch: 50 Loss Discriminator: 0.43909570574760437\n",
            "Epoch: 50 Loss Generator: 2.0586047172546387\n",
            "Epoch: 60 Loss Discriminator: 0.6150133609771729\n",
            "Epoch: 60 Loss Generator: 1.8939887285232544\n",
            "Epoch: 70 Loss Discriminator: 0.6327661275863647\n",
            "Epoch: 70 Loss Generator: 1.350623607635498\n",
            "Epoch: 80 Loss Discriminator: 0.6393368244171143\n",
            "Epoch: 80 Loss Generator: 1.2863681316375732\n",
            "Epoch: 90 Loss Discriminator: 0.5705519318580627\n",
            "Epoch: 90 Loss Generator: 1.1699631214141846\n",
            "Epoch: 100 Loss Discriminator: 0.6519477963447571\n",
            "Epoch: 100 Loss Generator: 0.9318950176239014\n",
            "Epoch: 110 Loss Discriminator: 0.6513053774833679\n",
            "Epoch: 110 Loss Generator: 0.8148802518844604\n",
            "Epoch: 120 Loss Discriminator: 0.4485788941383362\n",
            "Epoch: 120 Loss Generator: 1.2185368537902832\n",
            "Epoch: 130 Loss Discriminator: 0.6474609971046448\n",
            "Epoch: 130 Loss Generator: 0.9279270172119141\n",
            "Epoch: 140 Loss Discriminator: 0.6011199951171875\n",
            "Epoch: 140 Loss Generator: 1.0240426063537598\n",
            "Epoch: 150 Loss Discriminator: 0.5730038285255432\n",
            "Epoch: 150 Loss Generator: 1.1310226917266846\n",
            "Epoch: 160 Loss Discriminator: 0.5038642883300781\n",
            "Epoch: 160 Loss Generator: 1.1623198986053467\n",
            "Epoch: 170 Loss Discriminator: 0.5289573669433594\n",
            "Epoch: 170 Loss Generator: 1.291934847831726\n",
            "Epoch: 180 Loss Discriminator: 0.4703051447868347\n",
            "Epoch: 180 Loss Generator: 1.1708228588104248\n",
            "Epoch: 190 Loss Discriminator: 0.6338503360748291\n",
            "Epoch: 190 Loss Generator: 1.186888575553894\n",
            "Epoch: 200 Loss Discriminator: 0.5221022963523865\n",
            "Epoch: 200 Loss Generator: 1.2471529245376587\n",
            "Epoch: 210 Loss Discriminator: 0.5061506032943726\n",
            "Epoch: 210 Loss Generator: 1.1737314462661743\n",
            "Epoch: 220 Loss Discriminator: 0.5566558241844177\n",
            "Epoch: 220 Loss Generator: 1.0708316564559937\n",
            "Epoch: 230 Loss Discriminator: 0.6068161129951477\n",
            "Epoch: 230 Loss Generator: 1.0280508995056152\n",
            "Epoch: 240 Loss Discriminator: 0.6122494339942932\n",
            "Epoch: 240 Loss Generator: 1.0094071626663208\n",
            "Epoch: 250 Loss Discriminator: 0.5614804029464722\n",
            "Epoch: 250 Loss Generator: 1.1090724468231201\n",
            "Epoch: 260 Loss Discriminator: 0.5575270652770996\n",
            "Epoch: 260 Loss Generator: 1.0390225648880005\n",
            "Epoch: 270 Loss Discriminator: 0.5721663236618042\n",
            "Epoch: 270 Loss Generator: 0.9314306378364563\n",
            "Epoch: 280 Loss Discriminator: 0.558647632598877\n",
            "Epoch: 280 Loss Generator: 0.9929955005645752\n",
            "Epoch: 290 Loss Discriminator: 0.5707088708877563\n",
            "Epoch: 290 Loss Generator: 1.0299474000930786\n",
            "Epoch: 300 Loss Discriminator: 0.6010425686836243\n",
            "Epoch: 300 Loss Generator: 1.0474145412445068\n",
            "Epoch: 310 Loss Discriminator: 0.6222368478775024\n",
            "Epoch: 310 Loss Generator: 0.9417335391044617\n",
            "Epoch: 320 Loss Discriminator: 0.614932656288147\n",
            "Epoch: 320 Loss Generator: 0.9961816072463989\n",
            "Epoch: 330 Loss Discriminator: 0.5832585692405701\n",
            "Epoch: 330 Loss Generator: 0.9242390394210815\n",
            "Epoch: 340 Loss Discriminator: 0.5676422715187073\n",
            "Epoch: 340 Loss Generator: 0.9538020491600037\n",
            "Epoch: 350 Loss Discriminator: 0.5856730341911316\n",
            "Epoch: 350 Loss Generator: 1.0314991474151611\n",
            "Epoch: 360 Loss Discriminator: 0.5649462938308716\n",
            "Epoch: 360 Loss Generator: 0.9268667697906494\n",
            "Epoch: 370 Loss Discriminator: 0.5996711254119873\n",
            "Epoch: 370 Loss Generator: 1.0019418001174927\n",
            "Epoch: 380 Loss Discriminator: 0.5824757218360901\n",
            "Epoch: 380 Loss Generator: 0.9879992008209229\n",
            "Epoch: 390 Loss Discriminator: 0.5864137411117554\n",
            "Epoch: 390 Loss Generator: 0.9927579164505005\n",
            "Epoch: 400 Loss Discriminator: 0.5878166556358337\n",
            "Epoch: 400 Loss Generator: 1.0558788776397705\n",
            "Epoch: 410 Loss Discriminator: 0.5275974869728088\n",
            "Epoch: 410 Loss Generator: 0.966559886932373\n",
            "Epoch: 420 Loss Discriminator: 0.5625942945480347\n",
            "Epoch: 420 Loss Generator: 1.161808967590332\n",
            "Epoch: 430 Loss Discriminator: 0.5537752509117126\n",
            "Epoch: 430 Loss Generator: 1.013576626777649\n",
            "Epoch: 440 Loss Discriminator: 0.5452075004577637\n",
            "Epoch: 440 Loss Generator: 1.183915376663208\n",
            "Epoch: 450 Loss Discriminator: 0.5553383231163025\n",
            "Epoch: 450 Loss Generator: 1.1194422245025635\n",
            "Epoch: 460 Loss Discriminator: 0.522266149520874\n",
            "Epoch: 460 Loss Generator: 1.135338306427002\n",
            "Epoch: 470 Loss Discriminator: 0.5125302076339722\n",
            "Epoch: 470 Loss Generator: 1.020350694656372\n",
            "Epoch: 480 Loss Discriminator: 0.521437406539917\n",
            "Epoch: 480 Loss Generator: 1.129372000694275\n",
            "Epoch: 490 Loss Discriminator: 0.5018848180770874\n",
            "Epoch: 490 Loss Generator: 1.1818006038665771\n"
          ]
        }
      ]
    },
    {
      "cell_type": "code",
      "source": [
        "plt.ylabel('Accuracy')\n",
        "bp = plt.boxplot([data1, data2])\n",
        "plt.xticks([1, 2], ['Generated', 'Original'])\n",
        "plt.show()"
      ],
      "metadata": {
        "colab": {
          "base_uri": "https://localhost:8080/",
          "height": 265
        },
        "id": "goatYxNUuUq6",
        "outputId": "92ac91df-1190-4e62-d526-70893f199239"
      },
      "execution_count": null,
      "outputs": [
        {
          "output_type": "display_data",
          "data": {
            "text/plain": [
              "<Figure size 432x288 with 1 Axes>"
            ],
            "image/png": "[encoded data removed]"
          },
          "metadata": {
            "needs_background": "light"
          }
        }
      ]
    },
    {
      "cell_type": "code",
      "source": [
        "data1.mean()"
      ],
      "metadata": {
        "colab": {
          "base_uri": "https://localhost:8080/"
        },
        "id": "365M1Xs3vsKH",
        "outputId": "f6f9a5c2-d8ae-4259-fb44-64fda391ce69"
      },
      "execution_count": null,
      "outputs": [
        {
          "output_type": "execute_result",
          "data": {
            "text/plain": [
              "0.7529310344827584"
            ]
          },
          "metadata": {},
          "execution_count": 30
        }
      ]
    },
    {
      "cell_type": "code",
      "source": [
        "data2.mean()"
      ],
      "metadata": {
        "colab": {
          "base_uri": "https://localhost:8080/"
        },
        "id": "UfONk_qpvtl4",
        "outputId": "9d81c825-74e8-4b3e-e776-be7027da6a32"
      },
      "execution_count": null,
      "outputs": [
        {
          "output_type": "execute_result",
          "data": {
            "text/plain": [
              "0.4989655172413793"
            ]
          },
          "metadata": {},
          "execution_count": 31
        }
      ]
    },
    {
      "cell_type": "markdown",
      "source": [
        "# WSNs dataset"
      ],
      "metadata": {
        "id": "a1ZmAW-Ivzyt"
      }
    },
    {
      "cell_type": "code",
      "source": [
        "url = 'https://raw.githubusercontent.com/JkbRnc/Data_Generators/main/datasets/wsns.csv'\n",
        "wsns = pd.read_csv(url, sep=',')"
      ],
      "metadata": {
        "id": "5y3dtKrvvuZY"
      },
      "execution_count": null,
      "outputs": []
    },
    {
      "cell_type": "code",
      "source": [
        "wsns = wsns.drop(['sd_ale'], axis=1)"
      ],
      "metadata": {
        "id": "3YovURKBv-Xf"
      },
      "execution_count": null,
      "outputs": []
    },
    {
      "cell_type": "code",
      "source": [
        "wsns.info()"
      ],
      "metadata": {
        "colab": {
          "base_uri": "https://localhost:8080/"
        },
        "id": "OBFsMumzwETO",
        "outputId": "804de088-2ba2-4d14-9e02-9aa87858a80d"
      },
      "execution_count": null,
      "outputs": [
        {
          "output_type": "stream",
          "name": "stdout",
          "text": [
            "<class 'pandas.core.frame.DataFrame'>\n",
            "RangeIndex: 107 entries, 0 to 106\n",
            "Data columns (total 5 columns):\n",
            " #   Column        Non-Null Count  Dtype  \n",
            "---  ------        --------------  -----  \n",
            " 0   anchor_ratio  107 non-null    int64  \n",
            " 1   trans_range   107 non-null    int64  \n",
            " 2   node_density  107 non-null    int64  \n",
            " 3   iterations    107 non-null    int64  \n",
            " 4   ale           107 non-null    float64\n",
            "dtypes: float64(1), int64(4)\n",
            "memory usage: 4.3 KB\n"
          ]
        }
      ]
    },
    {
      "cell_type": "code",
      "source": [
        "wsns.shape[0]"
      ],
      "metadata": {
        "colab": {
          "base_uri": "https://localhost:8080/"
        },
        "id": "HLjd4G6FqB6W",
        "outputId": "d071e0a9-2469-49a3-f56a-96cbd45c9399"
      },
      "execution_count": null,
      "outputs": [
        {
          "output_type": "execute_result",
          "data": {
            "text/plain": [
              "107"
            ]
          },
          "metadata": {},
          "execution_count": 16
        }
      ]
    },
    {
      "cell_type": "code",
      "source": [
        "model=GAN(g_params=[512], d_params=[512], num_epochs=500)\n",
        "data1, data2 = create_statistics(wsns, 'ale', model, classification=False, sample_size=wsns.shape[0])"
      ],
      "metadata": {
        "colab": {
          "base_uri": "https://localhost:8080/"
        },
        "id": "UwFmLt_MwFXB",
        "outputId": "4ff210e8-5502-4637-e2df-f9f75eb55bab"
      },
      "execution_count": null,
      "outputs": [
        {
          "output_type": "stream",
          "name": "stdout",
          "text": [
            "Epoch: 0 Loss Discriminator: 0.5981810092926025\n",
            "Epoch: 0 Loss Generator: 0.745749831199646\n",
            "Epoch: 10 Loss Discriminator: 0.3485385775566101\n",
            "Epoch: 10 Loss Generator: 1.5447964668273926\n",
            "Epoch: 20 Loss Discriminator: 0.630682110786438\n",
            "Epoch: 20 Loss Generator: 1.4843037128448486\n",
            "Epoch: 30 Loss Discriminator: 0.7908227443695068\n",
            "Epoch: 30 Loss Generator: 1.4521892070770264\n",
            "Epoch: 40 Loss Discriminator: 0.5400393605232239\n",
            "Epoch: 40 Loss Generator: 1.4057326316833496\n",
            "Epoch: 50 Loss Discriminator: 0.7097017765045166\n",
            "Epoch: 50 Loss Generator: 0.7516564130783081\n",
            "Epoch: 60 Loss Discriminator: 0.7032806277275085\n",
            "Epoch: 60 Loss Generator: 0.8873865604400635\n",
            "Epoch: 70 Loss Discriminator: 0.6403943300247192\n",
            "Epoch: 70 Loss Generator: 0.8172905445098877\n",
            "Epoch: 80 Loss Discriminator: 0.7002123594284058\n",
            "Epoch: 80 Loss Generator: 0.7828128933906555\n",
            "Epoch: 90 Loss Discriminator: 0.645848274230957\n",
            "Epoch: 90 Loss Generator: 0.8725481629371643\n",
            "Epoch: 100 Loss Discriminator: 0.5787776708602905\n",
            "Epoch: 100 Loss Generator: 0.9097713828086853\n",
            "Epoch: 110 Loss Discriminator: 0.6400280594825745\n",
            "Epoch: 110 Loss Generator: 0.8713485598564148\n",
            "Epoch: 120 Loss Discriminator: 0.6175848841667175\n",
            "Epoch: 120 Loss Generator: 0.8468550443649292\n",
            "Epoch: 130 Loss Discriminator: 0.5752743482589722\n",
            "Epoch: 130 Loss Generator: 0.9327738881111145\n",
            "Epoch: 140 Loss Discriminator: 0.5941309928894043\n",
            "Epoch: 140 Loss Generator: 0.9982282519340515\n",
            "Epoch: 150 Loss Discriminator: 0.6501380205154419\n",
            "Epoch: 150 Loss Generator: 0.8429008722305298\n",
            "Epoch: 160 Loss Discriminator: 0.5129466652870178\n",
            "Epoch: 160 Loss Generator: 1.0087729692459106\n",
            "Epoch: 170 Loss Discriminator: 0.6453630924224854\n",
            "Epoch: 170 Loss Generator: 0.9778842926025391\n",
            "Epoch: 180 Loss Discriminator: 0.6037585735321045\n",
            "Epoch: 180 Loss Generator: 0.8648077249526978\n",
            "Epoch: 190 Loss Discriminator: 0.5539333820343018\n",
            "Epoch: 190 Loss Generator: 0.9260486364364624\n",
            "Epoch: 200 Loss Discriminator: 0.6030554175376892\n",
            "Epoch: 200 Loss Generator: 0.9930314421653748\n",
            "Epoch: 210 Loss Discriminator: 0.6457904577255249\n",
            "Epoch: 210 Loss Generator: 0.9660673141479492\n",
            "Epoch: 220 Loss Discriminator: 0.6206614971160889\n",
            "Epoch: 220 Loss Generator: 0.9897119402885437\n",
            "Epoch: 230 Loss Discriminator: 0.5984621644020081\n",
            "Epoch: 230 Loss Generator: 1.0967392921447754\n",
            "Epoch: 240 Loss Discriminator: 0.668046772480011\n",
            "Epoch: 240 Loss Generator: 0.9574977159500122\n",
            "Epoch: 250 Loss Discriminator: 0.6058279871940613\n",
            "Epoch: 250 Loss Generator: 0.991606593132019\n",
            "Epoch: 260 Loss Discriminator: 0.5703075528144836\n",
            "Epoch: 260 Loss Generator: 0.9049769043922424\n",
            "Epoch: 270 Loss Discriminator: 0.6052045822143555\n",
            "Epoch: 270 Loss Generator: 0.948864221572876\n",
            "Epoch: 280 Loss Discriminator: 0.6466494202613831\n",
            "Epoch: 280 Loss Generator: 0.9240395426750183\n",
            "Epoch: 290 Loss Discriminator: 0.5959492325782776\n",
            "Epoch: 290 Loss Generator: 0.9698002934455872\n",
            "Epoch: 300 Loss Discriminator: 0.6123772859573364\n",
            "Epoch: 300 Loss Generator: 1.0379928350448608\n",
            "Epoch: 310 Loss Discriminator: 0.6063493490219116\n",
            "Epoch: 310 Loss Generator: 0.9503163695335388\n",
            "Epoch: 320 Loss Discriminator: 0.6314066052436829\n",
            "Epoch: 320 Loss Generator: 0.8660863637924194\n",
            "Epoch: 330 Loss Discriminator: 0.565292239189148\n",
            "Epoch: 330 Loss Generator: 0.9719616770744324\n",
            "Epoch: 340 Loss Discriminator: 0.6093738675117493\n",
            "Epoch: 340 Loss Generator: 0.9102747440338135\n",
            "Epoch: 350 Loss Discriminator: 0.6804671287536621\n",
            "Epoch: 350 Loss Generator: 0.8436449766159058\n",
            "Epoch: 360 Loss Discriminator: 0.64066481590271\n",
            "Epoch: 360 Loss Generator: 0.9013692736625671\n",
            "Epoch: 370 Loss Discriminator: 0.6121014952659607\n",
            "Epoch: 370 Loss Generator: 0.8437151908874512\n",
            "Epoch: 380 Loss Discriminator: 0.619407594203949\n",
            "Epoch: 380 Loss Generator: 0.9844170808792114\n",
            "Epoch: 390 Loss Discriminator: 0.6582646369934082\n",
            "Epoch: 390 Loss Generator: 1.0332955121994019\n",
            "Epoch: 400 Loss Discriminator: 0.618118166923523\n",
            "Epoch: 400 Loss Generator: 0.9130231738090515\n",
            "Epoch: 410 Loss Discriminator: 0.626876711845398\n",
            "Epoch: 410 Loss Generator: 0.977609395980835\n",
            "Epoch: 420 Loss Discriminator: 0.6170987486839294\n",
            "Epoch: 420 Loss Generator: 1.0008217096328735\n",
            "Epoch: 430 Loss Discriminator: 0.6126250624656677\n",
            "Epoch: 430 Loss Generator: 1.1322921514511108\n",
            "Epoch: 440 Loss Discriminator: 0.6434249877929688\n",
            "Epoch: 440 Loss Generator: 0.9640477299690247\n",
            "Epoch: 450 Loss Discriminator: 0.5937410593032837\n",
            "Epoch: 450 Loss Generator: 1.0035779476165771\n",
            "Epoch: 460 Loss Discriminator: 0.577995777130127\n",
            "Epoch: 460 Loss Generator: 1.2094640731811523\n",
            "Epoch: 470 Loss Discriminator: 0.5860113501548767\n",
            "Epoch: 470 Loss Generator: 1.0539604425430298\n",
            "Epoch: 480 Loss Discriminator: 0.6186059713363647\n",
            "Epoch: 480 Loss Generator: 1.0579432249069214\n",
            "Epoch: 490 Loss Discriminator: 0.5677326917648315\n",
            "Epoch: 490 Loss Generator: 1.0321961641311646\n"
          ]
        }
      ]
    },
    {
      "cell_type": "code",
      "source": [
        "plt.ylabel('Accuracy')\n",
        "bp = plt.boxplot([data1, data2])\n",
        "plt.xticks([1, 2], ['Generated', 'Original'])\n",
        "plt.show()"
      ],
      "metadata": {
        "colab": {
          "base_uri": "https://localhost:8080/",
          "height": 265
        },
        "id": "L4TwJ_2nwIyH",
        "outputId": "04351f34-8e23-477d-e63c-0bf8f85078b9"
      },
      "execution_count": null,
      "outputs": [
        {
          "output_type": "display_data",
          "data": {
            "text/plain": [
              "<Figure size 432x288 with 1 Axes>"
            ],
            "image/png": "[encoded data removed]"
          },
          "metadata": {
            "needs_background": "light"
          }
        }
      ]
    },
    {
      "cell_type": "code",
      "source": [
        "data1.mean()"
      ],
      "metadata": {
        "colab": {
          "base_uri": "https://localhost:8080/"
        },
        "id": "46c1hv78wMEw",
        "outputId": "3f606f12-5808-4b89-ee79-10154c29aeb5"
      },
      "execution_count": null,
      "outputs": [
        {
          "output_type": "execute_result",
          "data": {
            "text/plain": [
              "0.056350277688990674"
            ]
          },
          "metadata": {},
          "execution_count": 15
        }
      ]
    },
    {
      "cell_type": "code",
      "source": [
        "data2.mean()"
      ],
      "metadata": {
        "colab": {
          "base_uri": "https://localhost:8080/"
        },
        "id": "x6MWz0xbwNG3",
        "outputId": "413dfc08-806d-43f6-883f-f31db15edf23"
      },
      "execution_count": null,
      "outputs": [
        {
          "output_type": "execute_result",
          "data": {
            "text/plain": [
              "0.041350342543204084"
            ]
          },
          "metadata": {},
          "execution_count": 47
        }
      ]
    },
    {
      "cell_type": "code",
      "source": [
        "d = model.sample(100)"
      ],
      "metadata": {
        "id": "ikpy15BGqgiJ"
      },
      "execution_count": null,
      "outputs": []
    },
    {
      "cell_type": "code",
      "source": [
        "d"
      ],
      "metadata": {
        "id": "sbVIPVi-qkXF"
      },
      "execution_count": null,
      "outputs": []
    },
    {
      "cell_type": "code",
      "source": [
        "model=GAN(g_params=[512], d_params=[512], num_epochs=500)\n",
        "data1, data2 = create_statistics(wsns, 'ale', model, classification=False, method='knn')"
      ],
      "metadata": {
        "colab": {
          "base_uri": "https://localhost:8080/"
        },
        "id": "H2HgTA93wN4w",
        "outputId": "c44ac754-53a1-4ae4-caa0-41086ef80a67"
      },
      "execution_count": null,
      "outputs": [
        {
          "output_type": "stream",
          "name": "stdout",
          "text": [
            "Epoch: 0 Loss Discriminator: 0.6022962331771851\n",
            "Epoch: 0 Loss Generator: 0.7414111495018005\n",
            "Epoch: 10 Loss Discriminator: 0.3732163608074188\n",
            "Epoch: 10 Loss Generator: 1.64341402053833\n",
            "Epoch: 20 Loss Discriminator: 0.4891866147518158\n",
            "Epoch: 20 Loss Generator: 2.2432241439819336\n",
            "Epoch: 30 Loss Discriminator: 0.6647080779075623\n",
            "Epoch: 30 Loss Generator: 1.7475559711456299\n",
            "Epoch: 40 Loss Discriminator: 0.7377883791923523\n",
            "Epoch: 40 Loss Generator: 1.6069082021713257\n",
            "Epoch: 50 Loss Discriminator: 0.6266313195228577\n",
            "Epoch: 50 Loss Generator: 1.1252750158309937\n",
            "Epoch: 60 Loss Discriminator: 0.569932222366333\n",
            "Epoch: 60 Loss Generator: 0.9846132397651672\n",
            "Epoch: 70 Loss Discriminator: 0.5577677488327026\n",
            "Epoch: 70 Loss Generator: 0.9954109787940979\n",
            "Epoch: 80 Loss Discriminator: 0.5595237612724304\n",
            "Epoch: 80 Loss Generator: 0.9650240540504456\n",
            "Epoch: 90 Loss Discriminator: 0.6151583790779114\n",
            "Epoch: 90 Loss Generator: 0.9163560271263123\n",
            "Epoch: 100 Loss Discriminator: 0.6698775291442871\n",
            "Epoch: 100 Loss Generator: 0.808660626411438\n",
            "Epoch: 110 Loss Discriminator: 0.5934370160102844\n",
            "Epoch: 110 Loss Generator: 0.9166983366012573\n",
            "Epoch: 120 Loss Discriminator: 0.6229028701782227\n",
            "Epoch: 120 Loss Generator: 0.8672090768814087\n",
            "Epoch: 130 Loss Discriminator: 0.675694465637207\n",
            "Epoch: 130 Loss Generator: 0.8089342713356018\n",
            "Epoch: 140 Loss Discriminator: 0.5398543477058411\n",
            "Epoch: 140 Loss Generator: 1.017139196395874\n",
            "Epoch: 150 Loss Discriminator: 0.6597529649734497\n",
            "Epoch: 150 Loss Generator: 0.9093012809753418\n",
            "Epoch: 160 Loss Discriminator: 0.608950674533844\n",
            "Epoch: 160 Loss Generator: 0.8840917944908142\n",
            "Epoch: 170 Loss Discriminator: 0.59644615650177\n",
            "Epoch: 170 Loss Generator: 1.0662152767181396\n",
            "Epoch: 180 Loss Discriminator: 0.6509385108947754\n",
            "Epoch: 180 Loss Generator: 0.8500471115112305\n",
            "Epoch: 190 Loss Discriminator: 0.5519542694091797\n",
            "Epoch: 190 Loss Generator: 1.019858956336975\n",
            "Epoch: 200 Loss Discriminator: 0.6504071950912476\n",
            "Epoch: 200 Loss Generator: 0.8815594911575317\n",
            "Epoch: 210 Loss Discriminator: 0.6375288963317871\n",
            "Epoch: 210 Loss Generator: 0.9160529971122742\n",
            "Epoch: 220 Loss Discriminator: 0.5536317229270935\n",
            "Epoch: 220 Loss Generator: 1.0314006805419922\n",
            "Epoch: 230 Loss Discriminator: 0.6648011207580566\n",
            "Epoch: 230 Loss Generator: 0.9838838577270508\n",
            "Epoch: 240 Loss Discriminator: 0.6541807651519775\n",
            "Epoch: 240 Loss Generator: 0.9505872130393982\n",
            "Epoch: 250 Loss Discriminator: 0.6734796762466431\n",
            "Epoch: 250 Loss Generator: 0.8908756971359253\n",
            "Epoch: 260 Loss Discriminator: 0.5952727198600769\n",
            "Epoch: 260 Loss Generator: 0.9387729167938232\n",
            "Epoch: 270 Loss Discriminator: 0.5507104396820068\n",
            "Epoch: 270 Loss Generator: 0.952372670173645\n",
            "Epoch: 280 Loss Discriminator: 0.6633572578430176\n",
            "Epoch: 280 Loss Generator: 0.8759822249412537\n",
            "Epoch: 290 Loss Discriminator: 0.5744572281837463\n",
            "Epoch: 290 Loss Generator: 0.9083445072174072\n",
            "Epoch: 300 Loss Discriminator: 0.6268041133880615\n",
            "Epoch: 300 Loss Generator: 0.8788044452667236\n",
            "Epoch: 310 Loss Discriminator: 0.5840569138526917\n",
            "Epoch: 310 Loss Generator: 0.8732818961143494\n",
            "Epoch: 320 Loss Discriminator: 0.6234933733940125\n",
            "Epoch: 320 Loss Generator: 0.8473533391952515\n",
            "Epoch: 330 Loss Discriminator: 0.6020862460136414\n",
            "Epoch: 330 Loss Generator: 1.0223480463027954\n",
            "Epoch: 340 Loss Discriminator: 0.6225625872612\n",
            "Epoch: 340 Loss Generator: 1.0867358446121216\n",
            "Epoch: 350 Loss Discriminator: 0.5846875309944153\n",
            "Epoch: 350 Loss Generator: 0.9927011728286743\n",
            "Epoch: 360 Loss Discriminator: 0.5691477060317993\n",
            "Epoch: 360 Loss Generator: 1.0571774244308472\n",
            "Epoch: 370 Loss Discriminator: 0.5336004495620728\n",
            "Epoch: 370 Loss Generator: 1.0301567316055298\n",
            "Epoch: 380 Loss Discriminator: 0.585728108882904\n",
            "Epoch: 380 Loss Generator: 1.0749706029891968\n",
            "Epoch: 390 Loss Discriminator: 0.607308566570282\n",
            "Epoch: 390 Loss Generator: 1.0104323625564575\n",
            "Epoch: 400 Loss Discriminator: 0.585794985294342\n",
            "Epoch: 400 Loss Generator: 0.9029733538627625\n",
            "Epoch: 410 Loss Discriminator: 0.6143322587013245\n",
            "Epoch: 410 Loss Generator: 0.8953719139099121\n",
            "Epoch: 420 Loss Discriminator: 0.5666488409042358\n",
            "Epoch: 420 Loss Generator: 0.9568674564361572\n",
            "Epoch: 430 Loss Discriminator: 0.5760501027107239\n",
            "Epoch: 430 Loss Generator: 1.0126842260360718\n",
            "Epoch: 440 Loss Discriminator: 0.5908211469650269\n",
            "Epoch: 440 Loss Generator: 1.0329816341400146\n",
            "Epoch: 450 Loss Discriminator: 0.5925539135932922\n",
            "Epoch: 450 Loss Generator: 0.9750099778175354\n",
            "Epoch: 460 Loss Discriminator: 0.6478345394134521\n",
            "Epoch: 460 Loss Generator: 0.922292172908783\n",
            "Epoch: 470 Loss Discriminator: 0.5612771511077881\n",
            "Epoch: 470 Loss Generator: 1.0197302103042603\n",
            "Epoch: 480 Loss Discriminator: 0.5720334053039551\n",
            "Epoch: 480 Loss Generator: 1.1572809219360352\n",
            "Epoch: 490 Loss Discriminator: 0.5540605187416077\n",
            "Epoch: 490 Loss Generator: 1.0086097717285156\n"
          ]
        }
      ]
    },
    {
      "cell_type": "code",
      "source": [
        "plt.ylabel('Accuracy')\n",
        "bp = plt.boxplot([data1, data2])\n",
        "plt.xticks([1, 2], ['Generated', 'Original'])\n",
        "plt.show()"
      ],
      "metadata": {
        "colab": {
          "base_uri": "https://localhost:8080/",
          "height": 265
        },
        "id": "Ubl2DmdI1o6D",
        "outputId": "303f4e32-f75e-4cf2-c723-b86a2ba6f56f"
      },
      "execution_count": null,
      "outputs": [
        {
          "output_type": "display_data",
          "data": {
            "text/plain": [
              "<Figure size 432x288 with 1 Axes>"
            ],
            "image/png": "[encoded data removed]"
          },
          "metadata": {
            "needs_background": "light"
          }
        }
      ]
    },
    {
      "cell_type": "code",
      "source": [
        "data1.mean()"
      ],
      "metadata": {
        "colab": {
          "base_uri": "https://localhost:8080/"
        },
        "id": "ze_x1P5i1qnL",
        "outputId": "84a3a4b0-a174-4ab5-c037-42b3eea67320"
      },
      "execution_count": null,
      "outputs": [
        {
          "output_type": "execute_result",
          "data": {
            "text/plain": [
              "0.052848249679485565"
            ]
          },
          "metadata": {},
          "execution_count": 50
        }
      ]
    },
    {
      "cell_type": "code",
      "source": [
        "data2.mean()"
      ],
      "metadata": {
        "colab": {
          "base_uri": "https://localhost:8080/"
        },
        "id": "AiHj374u1rg7",
        "outputId": "28809f3e-0497-4aec-ab36-de6353fd4385"
      },
      "execution_count": null,
      "outputs": [
        {
          "output_type": "execute_result",
          "data": {
            "text/plain": [
              "0.05957713609200682"
            ]
          },
          "metadata": {},
          "execution_count": 51
        }
      ]
    },
    {
      "cell_type": "code",
      "source": [
        "samples= model.sample(10000)"
      ],
      "metadata": {
        "id": "nFEPkHyl1sTD"
      },
      "execution_count": null,
      "outputs": []
    },
    {
      "cell_type": "code",
      "source": [
        "df = pd.DataFrame(samples)"
      ],
      "metadata": {
        "id": "CBqDXvj72Sz7"
      },
      "execution_count": null,
      "outputs": []
    },
    {
      "cell_type": "code",
      "source": [
        "distance(wsns.corr(), df.corr())"
      ],
      "metadata": {
        "colab": {
          "base_uri": "https://localhost:8080/"
        },
        "id": "UN6SFKNM2XED",
        "outputId": "0402dbea-8776-442d-8fb9-cae0e9ad9f26"
      },
      "execution_count": null,
      "outputs": [
        {
          "output_type": "execute_result",
          "data": {
            "text/plain": [
              "0.012465140807131897"
            ]
          },
          "metadata": {},
          "execution_count": 23
        }
      ]
    },
    {
      "cell_type": "code",
      "source": [
        "sn.heatmap(df.corr(), annot=True)"
      ],
      "metadata": {
        "colab": {
          "base_uri": "https://localhost:8080/",
          "height": 286
        },
        "id": "cRuQvZfL2h3m",
        "outputId": "f137d06e-14c2-4855-f417-9fe27872b9b8"
      },
      "execution_count": null,
      "outputs": [
        {
          "output_type": "execute_result",
          "data": {
            "text/plain": [
              "<matplotlib.axes._subplots.AxesSubplot at 0x7feceba17810>"
            ]
          },
          "metadata": {},
          "execution_count": 24
        },
        {
          "output_type": "display_data",
          "data": {
            "text/plain": [
              "<Figure size 432x288 with 2 Axes>"
            ],
            "image/png": "[encoded data removed]"
          },
          "metadata": {
            "needs_background": "light"
          }
        }
      ]
    },
    {
      "cell_type": "code",
      "source": [
        ""
      ],
      "metadata": {
        "id": "goQo7Ylw2ebK"
      },
      "execution_count": null,
      "outputs": []
    }
  ],
  "metadata": {
    "colab": {
      "collapsed_sections": [],
      "name": "GANs_experiments.ipynb",
      "provenance": [],
      "toc_visible": true
    },
    "kernelspec": {
      "display_name": "Python 3",
      "name": "python3"
    },
    "language_info": {
      "name": "python"
    }
  },
  "nbformat": 4,
  "nbformat_minor": 0
}